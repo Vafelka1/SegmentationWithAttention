{
  "cells": [
    {
      "cell_type": "markdown",
      "source": [
        "# Добро пожаловать на задание уровня Ultra Pro.\n",
        "\n",
        "В данном задании требуется на базе клеток сделать задачу сегментации с вниманием.\n",
        "\n",
        "Хотелось бы отметить что данное задание является сложным и Вам потребуется самостоятельно разобраться как правильно включить блок внимания в задачу сегментации.\n",
        "\n",
        "\n",
        "Успехов!"
      ],
      "metadata": {
        "id": "Q9-esCvKkdzf"
      }
    },
    {
      "cell_type": "code",
      "execution_count": 1,
      "metadata": {
        "id": "991MLbOm3bJP"
      },
      "outputs": [],
      "source": [
        "# Загрузить библиотеку OpenCV для загрузки файлов\n",
        "import cv2\n",
        "\n",
        "# Загрузим библиотеку Numpy\n",
        "import numpy as np\n",
        "\n",
        "# # Импортируем модель для загрузки файлов\n",
        "from glob import glob\n",
        "\n",
        "#\n",
        "from matplotlib import pylab as plt\n",
        "\n",
        "# Импортируем слои\n",
        "from keras.layers import Conv2D, BatchNormalization, Activation, Dropout, UpSampling2D, Add, Multiply, Input, Concatenate, MaxPooling2D\n",
        "\n",
        "# Импортируем Model\n",
        "from keras.models import Model\n",
        "\n",
        "# Импортируем оптимизатор\n",
        "from tensorflow.keras.optimizers import Adam\n",
        "\n",
        "# Импортируем backend keras\n",
        "from keras import backend as K"
      ]
    },
    {
      "cell_type": "code",
      "source": [
        "# Подключаем диск\n",
        "import gdown\n",
        "gdown.download('https://storage.yandexcloud.net/aiueducation/Content/advanced/l4/cellbase.zip', None, quiet=True)"
      ],
      "metadata": {
        "id": "TCDtq7cTvEuG",
        "colab": {
          "base_uri": "https://localhost:8080/",
          "height": 36
        },
        "outputId": "7016adcb-a81e-4bfc-c57a-a101aed00307"
      },
      "execution_count": 2,
      "outputs": [
        {
          "output_type": "execute_result",
          "data": {
            "text/plain": [
              "'cellbase.zip'"
            ],
            "application/vnd.google.colaboratory.intrinsic+json": {
              "type": "string"
            }
          },
          "metadata": {},
          "execution_count": 2
        }
      ]
    },
    {
      "cell_type": "code",
      "source": [
        "# Распаковываем zip-файл базы\n",
        "!unzip -q -o 'cellbase.zip'"
      ],
      "metadata": {
        "id": "DlPpkxSMCT1n"
      },
      "execution_count": 53,
      "outputs": []
    },
    {
      "cell_type": "code",
      "source": [
        "!rm -f -r /content/SegmentationWithAttention"
      ],
      "metadata": {
        "id": "msvoi31zQox1"
      },
      "execution_count": 4,
      "outputs": []
    },
    {
      "cell_type": "code",
      "source": [
        "!git clone https://github.com/Vafelka1/SegmentationWithAttention"
      ],
      "metadata": {
        "colab": {
          "base_uri": "https://localhost:8080/"
        },
        "id": "8wNo8Dh3NqnT",
        "outputId": "4e3b3976-df53-4d58-98d4-da00e36eee90"
      },
      "execution_count": 5,
      "outputs": [
        {
          "output_type": "stream",
          "name": "stdout",
          "text": [
            "Cloning into 'SegmentationWithAttention'...\n",
            "remote: Enumerating objects: 84, done.\u001b[K\n",
            "remote: Counting objects: 100% (44/44), done.\u001b[K\n",
            "remote: Compressing objects: 100% (44/44), done.\u001b[K\n",
            "remote: Total 84 (delta 22), reused 0 (delta 0), pack-reused 40\u001b[K\n",
            "Receiving objects: 100% (84/84), 72.20 MiB | 26.11 MiB/s, done.\n",
            "Resolving deltas: 100% (33/33), done.\n"
          ]
        }
      ]
    },
    {
      "cell_type": "code",
      "source": [
        "from PIL import Image\n",
        "import os\n",
        "def change_image_extension(img_fold,label_fold):\n",
        "  for item in sorted(os.listdir(img_fold)):\n",
        "    path = f\"{img_fold}/{item}\"\n",
        "    img = Image.open(path)\n",
        "    new_path = path.split('.')[0]+'.jpg'\n",
        "    os.remove(path)\n",
        "    img.save(new_path)\n",
        "\n",
        "  for item in sorted(os.listdir(label_fold)):\n",
        "    path = f\"{label_fold}/{item}\"\n",
        "    img = Image.open(path)\n",
        "    new_path = path.split('.')[0]+'.jpg'\n",
        "    os.remove(path)\n",
        "    img.save(new_path)\n",
        "\n",
        "\n",
        "change_image_extension('train','label')"
      ],
      "metadata": {
        "id": "NrXSGxzzZEKZ"
      },
      "execution_count": 287,
      "outputs": []
    },
    {
      "cell_type": "code",
      "source": [
        "from __future__ import print_function, division\n",
        "import os\n",
        "import math\n",
        "from os.path import join, exists\n",
        "from keras import callbacks\n",
        "# local libs\n",
        "from SegmentationWithAttention.materials.models.suim_net import SUIM_Net"
      ],
      "metadata": {
        "id": "VW6ybi13ARnk"
      },
      "execution_count": 6,
      "outputs": []
    },
    {
      "cell_type": "code",
      "source": [
        "dataset_name = \"suim\"\n",
        "train_dir = \"/content\""
      ],
      "metadata": {
        "id": "4k8dtUWqOjLr"
      },
      "execution_count": 69,
      "outputs": []
    },
    {
      "cell_type": "code",
      "source": [
        "ckpt_dir = \"/content/SegmentationWithAttention/materials/models/weights\"\n",
        "base_ = 'RSB' # or 'VGG'\n",
        "if base_=='RSB':\n",
        "    im_res_ = (320, 240, 3)\n",
        "    ckpt_name = \"suimnet_rsb02.hdf5\"\n",
        "else:\n",
        "    im_res_ = (320, 256, 3)\n",
        "    ckpt_name = \"suimnet_vgg.hdf5\"\n",
        "model_ckpt_name = join(ckpt_dir, ckpt_name)\n",
        "if not exists(ckpt_dir): os.makedirs(ckpt_dir)"
      ],
      "metadata": {
        "id": "FfVuQ7gZSBlR"
      },
      "execution_count": 8,
      "outputs": []
    },
    {
      "cell_type": "code",
      "source": [
        "from keras.layers import UpSampling2D, Conv2D"
      ],
      "metadata": {
        "id": "37-1JabxTimW"
      },
      "execution_count": 9,
      "outputs": []
    },
    {
      "cell_type": "code",
      "source": [
        "suimnet = SUIM_Net(base=base_, im_res=im_res_, n_classes=1)\n",
        "model = suimnet.model\n",
        "print (model.summary())"
      ],
      "metadata": {
        "colab": {
          "base_uri": "https://localhost:8080/"
        },
        "id": "Aak0j3fQStG5",
        "outputId": "432bf90b-7c18-4827-aa9a-64a03ae3ffc0"
      },
      "execution_count": 249,
      "outputs": [
        {
          "output_type": "stream",
          "name": "stdout",
          "text": [
            "Triplet Attention!\n",
            "ATTENTION!\n"
          ]
        },
        {
          "output_type": "stream",
          "name": "stderr",
          "text": [
            "WARNING:absl:`lr` is deprecated in Keras optimizer, please use `learning_rate` or use the legacy optimizer, e.g.,tf.keras.optimizers.legacy.Adam.\n"
          ]
        },
        {
          "output_type": "stream",
          "name": "stdout",
          "text": [
            "Model: \"model_3\"\n",
            "__________________________________________________________________________________________________\n",
            " Layer (type)                Output Shape                 Param #   Connected to                  \n",
            "==================================================================================================\n",
            " input_4 (InputLayer)        [(None, 240, 320, 3)]        0         []                            \n",
            "                                                                                                  \n",
            " conv2d_108 (Conv2D)         (None, 236, 316, 64)         4864      ['input_4[0][0]']             \n",
            "                                                                                                  \n",
            " batch_normalization_105 (B  (None, 236, 316, 64)         256       ['conv2d_108[0][0]']          \n",
            " atchNormalization)                                                                               \n",
            "                                                                                                  \n",
            " activation_66 (Activation)  (None, 236, 316, 64)         0         ['batch_normalization_105[0][0\n",
            "                                                                    ]']                           \n",
            "                                                                                                  \n",
            " max_pooling2d_3 (MaxPoolin  (None, 117, 157, 64)         0         ['activation_66[0][0]']       \n",
            " g2D)                                                                                             \n",
            "                                                                                                  \n",
            " conv2d_109 (Conv2D)         (None, 59, 79, 64)           4160      ['max_pooling2d_3[0][0]']     \n",
            "                                                                                                  \n",
            " batch_normalization_106 (B  (None, 59, 79, 64)           256       ['conv2d_109[0][0]']          \n",
            " atchNormalization)                                                                               \n",
            "                                                                                                  \n",
            " activation_67 (Activation)  (None, 59, 79, 64)           0         ['batch_normalization_106[0][0\n",
            "                                                                    ]']                           \n",
            "                                                                                                  \n",
            " conv2d_110 (Conv2D)         (None, 59, 79, 64)           36928     ['activation_67[0][0]']       \n",
            "                                                                                                  \n",
            " batch_normalization_107 (B  (None, 59, 79, 64)           256       ['conv2d_110[0][0]']          \n",
            " atchNormalization)                                                                               \n",
            "                                                                                                  \n",
            " activation_68 (Activation)  (None, 59, 79, 64)           0         ['batch_normalization_107[0][0\n",
            "                                                                    ]']                           \n",
            "                                                                                                  \n",
            " conv2d_111 (Conv2D)         (None, 59, 79, 128)          8320      ['activation_68[0][0]']       \n",
            "                                                                                                  \n",
            " conv2d_112 (Conv2D)         (None, 59, 79, 128)          8320      ['max_pooling2d_3[0][0]']     \n",
            "                                                                                                  \n",
            " batch_normalization_108 (B  (None, 59, 79, 128)          512       ['conv2d_111[0][0]']          \n",
            " atchNormalization)                                                                               \n",
            "                                                                                                  \n",
            " batch_normalization_109 (B  (None, 59, 79, 128)          512       ['conv2d_112[0][0]']          \n",
            " atchNormalization)                                                                               \n",
            "                                                                                                  \n",
            " add_21 (Add)                (None, 59, 79, 128)          0         ['batch_normalization_108[0][0\n",
            "                                                                    ]',                           \n",
            "                                                                     'batch_normalization_109[0][0\n",
            "                                                                    ]']                           \n",
            "                                                                                                  \n",
            " activation_69 (Activation)  (None, 59, 79, 128)          0         ['add_21[0][0]']              \n",
            "                                                                                                  \n",
            " conv2d_113 (Conv2D)         (None, 59, 79, 64)           8256      ['activation_69[0][0]']       \n",
            "                                                                                                  \n",
            " batch_normalization_110 (B  (None, 59, 79, 64)           256       ['conv2d_113[0][0]']          \n",
            " atchNormalization)                                                                               \n",
            "                                                                                                  \n",
            " activation_70 (Activation)  (None, 59, 79, 64)           0         ['batch_normalization_110[0][0\n",
            "                                                                    ]']                           \n",
            "                                                                                                  \n",
            " conv2d_114 (Conv2D)         (None, 59, 79, 64)           36928     ['activation_70[0][0]']       \n",
            "                                                                                                  \n",
            " batch_normalization_111 (B  (None, 59, 79, 64)           256       ['conv2d_114[0][0]']          \n",
            " atchNormalization)                                                                               \n",
            "                                                                                                  \n",
            " activation_71 (Activation)  (None, 59, 79, 64)           0         ['batch_normalization_111[0][0\n",
            "                                                                    ]']                           \n",
            "                                                                                                  \n",
            " conv2d_115 (Conv2D)         (None, 59, 79, 128)          8320      ['activation_71[0][0]']       \n",
            "                                                                                                  \n",
            " batch_normalization_112 (B  (None, 59, 79, 128)          512       ['conv2d_115[0][0]']          \n",
            " atchNormalization)                                                                               \n",
            "                                                                                                  \n",
            " add_22 (Add)                (None, 59, 79, 128)          0         ['batch_normalization_112[0][0\n",
            "                                                                    ]',                           \n",
            "                                                                     'activation_69[0][0]']       \n",
            "                                                                                                  \n",
            " activation_72 (Activation)  (None, 59, 79, 128)          0         ['add_22[0][0]']              \n",
            "                                                                                                  \n",
            " conv2d_116 (Conv2D)         (None, 59, 79, 64)           8256      ['activation_72[0][0]']       \n",
            "                                                                                                  \n",
            " batch_normalization_113 (B  (None, 59, 79, 64)           256       ['conv2d_116[0][0]']          \n",
            " atchNormalization)                                                                               \n",
            "                                                                                                  \n",
            " activation_73 (Activation)  (None, 59, 79, 64)           0         ['batch_normalization_113[0][0\n",
            "                                                                    ]']                           \n",
            "                                                                                                  \n",
            " conv2d_117 (Conv2D)         (None, 59, 79, 64)           36928     ['activation_73[0][0]']       \n",
            "                                                                                                  \n",
            " batch_normalization_114 (B  (None, 59, 79, 64)           256       ['conv2d_117[0][0]']          \n",
            " atchNormalization)                                                                               \n",
            "                                                                                                  \n",
            " activation_74 (Activation)  (None, 59, 79, 64)           0         ['batch_normalization_114[0][0\n",
            "                                                                    ]']                           \n",
            "                                                                                                  \n",
            " conv2d_118 (Conv2D)         (None, 59, 79, 128)          8320      ['activation_74[0][0]']       \n",
            "                                                                                                  \n",
            " batch_normalization_115 (B  (None, 59, 79, 128)          512       ['conv2d_118[0][0]']          \n",
            " atchNormalization)                                                                               \n",
            "                                                                                                  \n",
            " add_23 (Add)                (None, 59, 79, 128)          0         ['batch_normalization_115[0][0\n",
            "                                                                    ]',                           \n",
            "                                                                     'activation_72[0][0]']       \n",
            "                                                                                                  \n",
            " activation_75 (Activation)  (None, 59, 79, 128)          0         ['add_23[0][0]']              \n",
            "                                                                                                  \n",
            " conv2d_119 (Conv2D)         (None, 30, 40, 128)          16512     ['activation_75[0][0]']       \n",
            "                                                                                                  \n",
            " batch_normalization_116 (B  (None, 30, 40, 128)          512       ['conv2d_119[0][0]']          \n",
            " atchNormalization)                                                                               \n",
            "                                                                                                  \n",
            " activation_76 (Activation)  (None, 30, 40, 128)          0         ['batch_normalization_116[0][0\n",
            "                                                                    ]']                           \n",
            "                                                                                                  \n",
            " conv2d_120 (Conv2D)         (None, 30, 40, 128)          147584    ['activation_76[0][0]']       \n",
            "                                                                                                  \n",
            " batch_normalization_117 (B  (None, 30, 40, 128)          512       ['conv2d_120[0][0]']          \n",
            " atchNormalization)                                                                               \n",
            "                                                                                                  \n",
            " activation_77 (Activation)  (None, 30, 40, 128)          0         ['batch_normalization_117[0][0\n",
            "                                                                    ]']                           \n",
            "                                                                                                  \n",
            " conv2d_121 (Conv2D)         (None, 30, 40, 256)          33024     ['activation_77[0][0]']       \n",
            "                                                                                                  \n",
            " conv2d_122 (Conv2D)         (None, 30, 40, 256)          33024     ['activation_75[0][0]']       \n",
            "                                                                                                  \n",
            " batch_normalization_118 (B  (None, 30, 40, 256)          1024      ['conv2d_121[0][0]']          \n",
            " atchNormalization)                                                                               \n",
            "                                                                                                  \n",
            " batch_normalization_119 (B  (None, 30, 40, 256)          1024      ['conv2d_122[0][0]']          \n",
            " atchNormalization)                                                                               \n",
            "                                                                                                  \n",
            " add_24 (Add)                (None, 30, 40, 256)          0         ['batch_normalization_118[0][0\n",
            "                                                                    ]',                           \n",
            "                                                                     'batch_normalization_119[0][0\n",
            "                                                                    ]']                           \n",
            "                                                                                                  \n",
            " activation_78 (Activation)  (None, 30, 40, 256)          0         ['add_24[0][0]']              \n",
            "                                                                                                  \n",
            " conv2d_123 (Conv2D)         (None, 30, 40, 128)          32896     ['activation_78[0][0]']       \n",
            "                                                                                                  \n",
            " batch_normalization_120 (B  (None, 30, 40, 128)          512       ['conv2d_123[0][0]']          \n",
            " atchNormalization)                                                                               \n",
            "                                                                                                  \n",
            " activation_79 (Activation)  (None, 30, 40, 128)          0         ['batch_normalization_120[0][0\n",
            "                                                                    ]']                           \n",
            "                                                                                                  \n",
            " conv2d_124 (Conv2D)         (None, 30, 40, 128)          147584    ['activation_79[0][0]']       \n",
            "                                                                                                  \n",
            " batch_normalization_121 (B  (None, 30, 40, 128)          512       ['conv2d_124[0][0]']          \n",
            " atchNormalization)                                                                               \n",
            "                                                                                                  \n",
            " activation_80 (Activation)  (None, 30, 40, 128)          0         ['batch_normalization_121[0][0\n",
            "                                                                    ]']                           \n",
            "                                                                                                  \n",
            " conv2d_125 (Conv2D)         (None, 30, 40, 256)          33024     ['activation_80[0][0]']       \n",
            "                                                                                                  \n",
            " batch_normalization_122 (B  (None, 30, 40, 256)          1024      ['conv2d_125[0][0]']          \n",
            " atchNormalization)                                                                               \n",
            "                                                                                                  \n",
            " add_25 (Add)                (None, 30, 40, 256)          0         ['batch_normalization_122[0][0\n",
            "                                                                    ]',                           \n",
            "                                                                     'activation_78[0][0]']       \n",
            "                                                                                                  \n",
            " activation_81 (Activation)  (None, 30, 40, 256)          0         ['add_25[0][0]']              \n",
            "                                                                                                  \n",
            " conv2d_126 (Conv2D)         (None, 30, 40, 128)          32896     ['activation_81[0][0]']       \n",
            "                                                                                                  \n",
            " batch_normalization_123 (B  (None, 30, 40, 128)          512       ['conv2d_126[0][0]']          \n",
            " atchNormalization)                                                                               \n",
            "                                                                                                  \n",
            " activation_82 (Activation)  (None, 30, 40, 128)          0         ['batch_normalization_123[0][0\n",
            "                                                                    ]']                           \n",
            "                                                                                                  \n",
            " conv2d_127 (Conv2D)         (None, 30, 40, 128)          147584    ['activation_82[0][0]']       \n",
            "                                                                                                  \n",
            " batch_normalization_124 (B  (None, 30, 40, 128)          512       ['conv2d_127[0][0]']          \n",
            " atchNormalization)                                                                               \n",
            "                                                                                                  \n",
            " activation_83 (Activation)  (None, 30, 40, 128)          0         ['batch_normalization_124[0][0\n",
            "                                                                    ]']                           \n",
            "                                                                                                  \n",
            " conv2d_128 (Conv2D)         (None, 30, 40, 256)          33024     ['activation_83[0][0]']       \n",
            "                                                                                                  \n",
            " batch_normalization_125 (B  (None, 30, 40, 256)          1024      ['conv2d_128[0][0]']          \n",
            " atchNormalization)                                                                               \n",
            "                                                                                                  \n",
            " add_26 (Add)                (None, 30, 40, 256)          0         ['batch_normalization_125[0][0\n",
            "                                                                    ]',                           \n",
            "                                                                     'activation_81[0][0]']       \n",
            "                                                                                                  \n",
            " activation_84 (Activation)  (None, 30, 40, 256)          0         ['add_26[0][0]']              \n",
            "                                                                                                  \n",
            " conv2d_129 (Conv2D)         (None, 30, 40, 128)          32896     ['activation_84[0][0]']       \n",
            "                                                                                                  \n",
            " batch_normalization_126 (B  (None, 30, 40, 128)          512       ['conv2d_129[0][0]']          \n",
            " atchNormalization)                                                                               \n",
            "                                                                                                  \n",
            " activation_85 (Activation)  (None, 30, 40, 128)          0         ['batch_normalization_126[0][0\n",
            "                                                                    ]']                           \n",
            "                                                                                                  \n",
            " conv2d_130 (Conv2D)         (None, 30, 40, 128)          147584    ['activation_85[0][0]']       \n",
            "                                                                                                  \n",
            " batch_normalization_127 (B  (None, 30, 40, 128)          512       ['conv2d_130[0][0]']          \n",
            " atchNormalization)                                                                               \n",
            "                                                                                                  \n",
            " activation_86 (Activation)  (None, 30, 40, 128)          0         ['batch_normalization_127[0][0\n",
            "                                                                    ]']                           \n",
            "                                                                                                  \n",
            " conv2d_131 (Conv2D)         (None, 30, 40, 256)          33024     ['activation_86[0][0]']       \n",
            "                                                                                                  \n",
            " batch_normalization_128 (B  (None, 30, 40, 256)          1024      ['conv2d_131[0][0]']          \n",
            " atchNormalization)                                                                               \n",
            "                                                                                                  \n",
            " add_27 (Add)                (None, 30, 40, 256)          0         ['batch_normalization_128[0][0\n",
            "                                                                    ]',                           \n",
            "                                                                     'activation_84[0][0]']       \n",
            "                                                                                                  \n",
            " activation_87 (Activation)  (None, 30, 40, 256)          0         ['add_27[0][0]']              \n",
            "                                                                                                  \n",
            " conv2d_132 (Conv2D)         (None, 30, 40, 256)          590080    ['activation_87[0][0]']       \n",
            "                                                                                                  \n",
            " lambda_7 (Lambda)           (None, 58, 78, 128)          0         ['activation_75[0][0]']       \n",
            "                                                                                                  \n",
            " batch_normalization_129 (B  (None, 30, 40, 256)          1024      ['conv2d_132[0][0]']          \n",
            " atchNormalization)                                                                               \n",
            "                                                                                                  \n",
            " tf.math.reduce_mean_3 (TFO  (None, 236)                  0         ['conv2d_108[0][0]']          \n",
            " pLambda)                                                                                         \n",
            "                                                                                                  \n",
            " zero_padding2d_10 (ZeroPad  (None, 60, 80, 128)          0         ['lambda_7[0][0]']            \n",
            " ding2D)                                                                                          \n",
            "                                                                                                  \n",
            " up_sampling2d_9 (UpSamplin  (None, 60, 80, 256)          0         ['batch_normalization_129[0][0\n",
            " g2D)                                                               ]']                           \n",
            "                                                                                                  \n",
            " tf.expand_dims_6 (TFOpLamb  (None, 1, 236)               0         ['tf.math.reduce_mean_3[0][0]'\n",
            " da)                                                                ]                             \n",
            "                                                                                                  \n",
            " conv2d_133 (Conv2D)         (None, 60, 80, 256)          295168    ['zero_padding2d_10[0][0]']   \n",
            "                                                                                                  \n",
            " lambda_6 (Lambda)           (None, 58, 78, 256)          0         ['up_sampling2d_9[0][0]']     \n",
            "                                                                                                  \n",
            " conv1d_3 (Conv1D)           (None, 1, 1)                 708       ['tf.expand_dims_6[0][0]']    \n",
            "                                                                                                  \n",
            " batch_normalization_130 (B  (None, 60, 80, 256)          1024      ['conv2d_133[0][0]']          \n",
            " atchNormalization)                                                                               \n",
            "                                                                                                  \n",
            " zero_padding2d_9 (ZeroPadd  (None, 60, 80, 256)          0         ['lambda_6[0][0]']            \n",
            " ing2D)                                                                                           \n",
            "                                                                                                  \n",
            " tf.compat.v1.transpose_3 (  (None, 1, 1)                 0         ['conv1d_3[0][0]']            \n",
            " TFOpLambda)                                                                                      \n",
            "                                                                                                  \n",
            " concatenate_6 (Concatenate  (None, 60, 80, 512)          0         ['batch_normalization_130[0][0\n",
            " )                                                                  ]',                           \n",
            "                                                                     'zero_padding2d_9[0][0]']    \n",
            "                                                                                                  \n",
            " tf.expand_dims_7 (TFOpLamb  (None, 1, 1, 1)              0         ['tf.compat.v1.transpose_3[0][\n",
            " da)                                                                0]']                          \n",
            "                                                                                                  \n",
            " conv2d_134 (Conv2D)         (None, 60, 80, 256)          1179904   ['concatenate_6[0][0]']       \n",
            "                                                                                                  \n",
            " tf.math.sigmoid_3 (TFOpLam  (None, 1, 1, 1)              0         ['tf.expand_dims_7[0][0]']    \n",
            " bda)                                                                                             \n",
            "                                                                                                  \n",
            " batch_normalization_131 (B  (None, 60, 80, 256)          1024      ['conv2d_134[0][0]']          \n",
            " atchNormalization)                                                                               \n",
            "                                                                                                  \n",
            " tf.math.multiply_7 (TFOpLa  (None, 236, 316, 64)         0         ['conv2d_108[0][0]',          \n",
            " mbda)                                                               'tf.math.sigmoid_3[0][0]']   \n",
            "                                                                                                  \n",
            " up_sampling2d_10 (UpSampli  (None, 120, 160, 256)        0         ['batch_normalization_131[0][0\n",
            " ng2D)                                                              ]']                           \n",
            "                                                                                                  \n",
            " zero_padding2d_11 (ZeroPad  (None, 240, 320, 64)         0         ['tf.math.multiply_7[0][0]']  \n",
            " ding2D)                                                                                          \n",
            "                                                                                                  \n",
            " conv2d_135 (Conv2D)         (None, 120, 160, 128)        295040    ['up_sampling2d_10[0][0]']    \n",
            "                                                                                                  \n",
            " conv2d_136 (Conv2D)         (None, 240, 320, 128)        73856     ['zero_padding2d_11[0][0]']   \n",
            "                                                                                                  \n",
            " batch_normalization_132 (B  (None, 120, 160, 128)        512       ['conv2d_135[0][0]']          \n",
            " atchNormalization)                                                                               \n",
            "                                                                                                  \n",
            " batch_normalization_133 (B  (None, 240, 320, 128)        512       ['conv2d_136[0][0]']          \n",
            " atchNormalization)                                                                               \n",
            "                                                                                                  \n",
            " up_sampling2d_11 (UpSampli  (None, 240, 320, 128)        0         ['batch_normalization_132[0][0\n",
            " ng2D)                                                              ]']                           \n",
            "                                                                                                  \n",
            " concatenate_7 (Concatenate  (None, 240, 320, 256)        0         ['batch_normalization_133[0][0\n",
            " )                                                                  ]',                           \n",
            "                                                                     'up_sampling2d_11[0][0]']    \n",
            "                                                                                                  \n",
            " conv2d_137 (Conv2D)         (None, 240, 320, 128)        295040    ['concatenate_7[0][0]']       \n",
            "                                                                                                  \n",
            " batch_normalization_134 (B  (None, 240, 320, 128)        512       ['conv2d_137[0][0]']          \n",
            " atchNormalization)                                                                               \n",
            "                                                                                                  \n",
            " conv2d_138 (Conv2D)         (None, 240, 320, 64)         73792     ['batch_normalization_134[0][0\n",
            "                                                                    ]']                           \n",
            "                                                                                                  \n",
            " batch_normalization_135 (B  (None, 240, 320, 64)         256       ['conv2d_138[0][0]']          \n",
            " atchNormalization)                                                                               \n",
            "                                                                                                  \n",
            " conv2d_139 (Conv2D)         (None, 240, 320, 1)          577       ['batch_normalization_135[0][0\n",
            "                                                                    ]']                           \n",
            "                                                                                                  \n",
            "==================================================================================================\n",
            "Total params: 3862341 (14.73 MB)\n",
            "Trainable params: 3853381 (14.70 MB)\n",
            "Non-trainable params: 8960 (35.00 KB)\n",
            "__________________________________________________________________________________________________\n",
            "None\n"
          ]
        }
      ]
    },
    {
      "cell_type": "code",
      "source": [
        "batch_size = 4\n",
        "num_epochs = 40"
      ],
      "metadata": {
        "id": "3NatLiskUwyi"
      },
      "execution_count": 11,
      "outputs": []
    },
    {
      "cell_type": "code",
      "source": [
        "\n",
        "# setup data generator\n",
        "data_gen_args = dict(rotation_range=0.2,\n",
        "                    width_shift_range=0.05,\n",
        "                    height_shift_range=0.05,\n",
        "                    shear_range=0.05,\n",
        "                    zoom_range=0.05,\n",
        "                    horizontal_flip=True,\n",
        "                    fill_mode='nearest')"
      ],
      "metadata": {
        "id": "UJBD-pjLUy_5"
      },
      "execution_count": 217,
      "outputs": []
    },
    {
      "cell_type": "code",
      "source": [
        "model_checkpoint = callbacks.ModelCheckpoint(model_ckpt_name,\n",
        "                                   monitor = 'loss',\n",
        "                                   verbose = 1, mode= 'auto',\n",
        "                                   save_weights_only = True,\n",
        "                                   save_best_only = True)"
      ],
      "metadata": {
        "id": "vade3-Q5U19f"
      },
      "execution_count": 218,
      "outputs": []
    },
    {
      "cell_type": "code",
      "source": [],
      "metadata": {
        "id": "Bf7mVahbhoHT"
      },
      "execution_count": null,
      "outputs": []
    },
    {
      "cell_type": "code",
      "source": [
        "def getSaliency(mask):\n",
        "    # one combined category: HD/RO/FV/WR\n",
        "    imw, imh = mask.shape[0], mask.shape[1]\n",
        "    sal = np.zeros((imw, imh))\n",
        "    for i in range(imw):\n",
        "        for j in range(imh):\n",
        "            if (mask[i,j,0]<=125 and mask[i,j,1]<=125 and mask[i,j,2]<=125):\n",
        "                sal[i, j] = 1\n",
        "            elif (mask[i,j,0]>=125 and mask[i,j,1]>=125 and mask[i,j,2]>=125):\n",
        "                sal[i, j] = 1\n",
        "            else: pass\n",
        "    return np.expand_dims(sal, axis=-1)"
      ],
      "metadata": {
        "id": "NSjPXC7b1oqP"
      },
      "execution_count": 314,
      "outputs": []
    },
    {
      "cell_type": "code",
      "source": [
        "#def getSaliency(mask):\n",
        "#    # one combined category: HD/RO/FV/WR\n",
        "#    imw, imh = mask.shape[0], mask.shape[1]\n",
        "#    sal = np.zeros((imw, imh))\n",
        "#    for i in range(imw):\n",
        "#       for j in range(imh):\n",
        "#           if j<=0.5:\n",
        "#               sal[i, j] = 0\n",
        "#           elif j>=5.:\n",
        "#               sal[i, j] = 1\n",
        "#           else: pass\n",
        "#   return np.expand_dims(sal, axis=-1)"
      ],
      "metadata": {
        "id": "VC-Ms5PchQvC"
      },
      "execution_count": 145,
      "outputs": []
    },
    {
      "cell_type": "code",
      "source": [
        "def processSUIMDataRFHW(img, mask, sal=True):\n",
        "    # scaling image data and masks\n",
        "    #mask = mask / 255\n",
        "\n",
        "    m = []\n",
        "    for i in range(mask.shape[0]):\n",
        "        if sal:\n",
        "            m.append(getSaliency(mask[i]))\n",
        "        else:\n",
        "            print('Миша,давай по новой')\n",
        "    m = np.array(m)\n",
        "    return (img, m)"
      ],
      "metadata": {
        "id": "29SuwGRBWvi8"
      },
      "execution_count": 321,
      "outputs": []
    },
    {
      "cell_type": "code",
      "source": [],
      "metadata": {
        "id": "QcHDY34rhokH"
      },
      "execution_count": null,
      "outputs": []
    },
    {
      "cell_type": "code",
      "source": [
        "from keras.preprocessing.image import ImageDataGenerator\n",
        "def trainDataGenerator(batch_size, train_path, image_folder, mask_folder, aug_dict, image_color_mode=\"grayscale\",\n",
        "                    mask_color_mode=\"grayscale\", target_size=(256,256), sal=True):\n",
        "    # data generator function for driving the training\n",
        "    image_datagen = ImageDataGenerator(**aug_dict)\n",
        "    image_generator = image_datagen.flow_from_directory(\n",
        "        train_path,\n",
        "        classes = [image_folder],\n",
        "        class_mode = None,\n",
        "        color_mode = image_color_mode,\n",
        "        target_size = target_size,\n",
        "        batch_size = batch_size,\n",
        "        save_to_dir = None,\n",
        "        save_prefix  = \"image\",\n",
        "        seed=1)\n",
        "    # mask generator function for corresponding ground truth\n",
        "    mask_datagen = ImageDataGenerator(**aug_dict)\n",
        "    mask_generator = mask_datagen.flow_from_directory(\n",
        "        train_path,\n",
        "        classes = [mask_folder],\n",
        "        class_mode = None,\n",
        "        color_mode = mask_color_mode,\n",
        "        target_size = target_size,\n",
        "        batch_size = batch_size,\n",
        "        save_to_dir = None,\n",
        "        save_prefix  = \"mask\",\n",
        "        seed = 1)\n",
        "    # make pairs and return\n",
        "    for (img, mask) in zip(image_generator, mask_generator):\n",
        "        img, mask_indiv = processSUIMDataRFHW(img, mask, sal)\n",
        "        #yield (img, mask_indiv)\n",
        "        #print(img.shape)\n",
        "        #print(mask_indiv)\n",
        "        print(np.count_nonzero(mask_indiv))"
      ],
      "metadata": {
        "id": "2kGKqGN4V6P-"
      },
      "execution_count": 319,
      "outputs": []
    },
    {
      "cell_type": "code",
      "source": [
        "# data generator\n",
        "\n",
        "train_gen = trainDataGenerator(batch_size, # batch_size\n",
        "                              train_dir,# train-data dir\n",
        "                              \"train\", # image_folder\n",
        "                              \"label\", # mask_folder\n",
        "                              data_gen_args, # aug_dict\n",
        "                              image_color_mode=\"rgb\",\n",
        "                              mask_color_mode=\"rgb\",\n",
        "                              target_size = (im_res_[1], im_res_[0]))"
      ],
      "metadata": {
        "colab": {
          "base_uri": "https://localhost:8080/",
          "height": 459
        },
        "id": "5O-NBY_hVOrT",
        "outputId": "2c959949-c164-4601-9745-91de7196218f"
      },
      "execution_count": 320,
      "outputs": [
        {
          "output_type": "stream",
          "name": "stdout",
          "text": [
            "Found 30 images belonging to 1 classes.\n",
            "Found 30 images belonging to 1 classes.\n",
            "307200\n",
            "307200\n"
          ]
        },
        {
          "output_type": "error",
          "ename": "KeyboardInterrupt",
          "evalue": "ignored",
          "traceback": [
            "\u001b[0;31m---------------------------------------------------------------------------\u001b[0m",
            "\u001b[0;31mKeyboardInterrupt\u001b[0m                         Traceback (most recent call last)",
            "\u001b[0;32m<ipython-input-320-ea570bfabb73>\u001b[0m in \u001b[0;36m<cell line: 3>\u001b[0;34m()\u001b[0m\n\u001b[1;32m      1\u001b[0m \u001b[0;31m# data generator\u001b[0m\u001b[0;34m\u001b[0m\u001b[0;34m\u001b[0m\u001b[0m\n\u001b[1;32m      2\u001b[0m \u001b[0;34m\u001b[0m\u001b[0m\n\u001b[0;32m----> 3\u001b[0;31m train_gen = trainDataGenerator(batch_size, # batch_size \n\u001b[0m\u001b[1;32m      4\u001b[0m                               \u001b[0mtrain_dir\u001b[0m\u001b[0;34m,\u001b[0m\u001b[0;31m# train-data dir\u001b[0m\u001b[0;34m\u001b[0m\u001b[0;34m\u001b[0m\u001b[0m\n\u001b[1;32m      5\u001b[0m                               \u001b[0;34m\"train\"\u001b[0m\u001b[0;34m,\u001b[0m \u001b[0;31m# image_folder\u001b[0m\u001b[0;34m\u001b[0m\u001b[0;34m\u001b[0m\u001b[0m\n",
            "\u001b[0;32m<ipython-input-319-97be6d373422>\u001b[0m in \u001b[0;36mtrainDataGenerator\u001b[0;34m(batch_size, train_path, image_folder, mask_folder, aug_dict, image_color_mode, mask_color_mode, target_size, sal)\u001b[0m\n\u001b[1;32m     28\u001b[0m     \u001b[0;31m# make pairs and return\u001b[0m\u001b[0;34m\u001b[0m\u001b[0;34m\u001b[0m\u001b[0m\n\u001b[1;32m     29\u001b[0m     \u001b[0;32mfor\u001b[0m \u001b[0;34m(\u001b[0m\u001b[0mimg\u001b[0m\u001b[0;34m,\u001b[0m \u001b[0mmask\u001b[0m\u001b[0;34m)\u001b[0m \u001b[0;32min\u001b[0m \u001b[0mzip\u001b[0m\u001b[0;34m(\u001b[0m\u001b[0mimage_generator\u001b[0m\u001b[0;34m,\u001b[0m \u001b[0mmask_generator\u001b[0m\u001b[0;34m)\u001b[0m\u001b[0;34m:\u001b[0m\u001b[0;34m\u001b[0m\u001b[0;34m\u001b[0m\u001b[0m\n\u001b[0;32m---> 30\u001b[0;31m         \u001b[0mimg\u001b[0m\u001b[0;34m,\u001b[0m \u001b[0mmask_indiv\u001b[0m \u001b[0;34m=\u001b[0m \u001b[0mprocessSUIMDataRFHW\u001b[0m\u001b[0;34m(\u001b[0m\u001b[0mimg\u001b[0m\u001b[0;34m,\u001b[0m \u001b[0mmask\u001b[0m\u001b[0;34m,\u001b[0m \u001b[0msal\u001b[0m\u001b[0;34m)\u001b[0m\u001b[0;34m\u001b[0m\u001b[0;34m\u001b[0m\u001b[0m\n\u001b[0m\u001b[1;32m     31\u001b[0m         \u001b[0;31m#yield (img, mask_indiv)\u001b[0m\u001b[0;34m\u001b[0m\u001b[0;34m\u001b[0m\u001b[0m\n\u001b[1;32m     32\u001b[0m         \u001b[0;31m#print(img.shape)\u001b[0m\u001b[0;34m\u001b[0m\u001b[0;34m\u001b[0m\u001b[0m\n",
            "\u001b[0;32m<ipython-input-318-711e7cf96a17>\u001b[0m in \u001b[0;36mprocessSUIMDataRFHW\u001b[0;34m(img, mask, sal)\u001b[0m\n\u001b[1;32m      6\u001b[0m     \u001b[0;32mfor\u001b[0m \u001b[0mi\u001b[0m \u001b[0;32min\u001b[0m \u001b[0mrange\u001b[0m\u001b[0;34m(\u001b[0m\u001b[0mmask\u001b[0m\u001b[0;34m.\u001b[0m\u001b[0mshape\u001b[0m\u001b[0;34m[\u001b[0m\u001b[0;36m0\u001b[0m\u001b[0;34m]\u001b[0m\u001b[0;34m)\u001b[0m\u001b[0;34m:\u001b[0m\u001b[0;34m\u001b[0m\u001b[0;34m\u001b[0m\u001b[0m\n\u001b[1;32m      7\u001b[0m         \u001b[0;32mif\u001b[0m \u001b[0msal\u001b[0m\u001b[0;34m:\u001b[0m\u001b[0;34m\u001b[0m\u001b[0;34m\u001b[0m\u001b[0m\n\u001b[0;32m----> 8\u001b[0;31m             \u001b[0mm\u001b[0m\u001b[0;34m.\u001b[0m\u001b[0mappend\u001b[0m\u001b[0;34m(\u001b[0m\u001b[0mgetSaliency\u001b[0m\u001b[0;34m(\u001b[0m\u001b[0mmask\u001b[0m\u001b[0;34m[\u001b[0m\u001b[0mi\u001b[0m\u001b[0;34m]\u001b[0m\u001b[0;34m*\u001b[0m\u001b[0;36m255\u001b[0m\u001b[0;34m)\u001b[0m\u001b[0;34m)\u001b[0m\u001b[0;34m\u001b[0m\u001b[0;34m\u001b[0m\u001b[0m\n\u001b[0m\u001b[1;32m      9\u001b[0m         \u001b[0;32melse\u001b[0m\u001b[0;34m:\u001b[0m\u001b[0;34m\u001b[0m\u001b[0;34m\u001b[0m\u001b[0m\n\u001b[1;32m     10\u001b[0m             \u001b[0mprint\u001b[0m\u001b[0;34m(\u001b[0m\u001b[0;34m'Миша,давай по новой'\u001b[0m\u001b[0;34m)\u001b[0m\u001b[0;34m\u001b[0m\u001b[0;34m\u001b[0m\u001b[0m\n",
            "\u001b[0;32m<ipython-input-314-4f125bde77bf>\u001b[0m in \u001b[0;36mgetSaliency\u001b[0;34m(mask)\u001b[0m\n\u001b[1;32m      8\u001b[0m                 \u001b[0msal\u001b[0m\u001b[0;34m[\u001b[0m\u001b[0mi\u001b[0m\u001b[0;34m,\u001b[0m \u001b[0mj\u001b[0m\u001b[0;34m]\u001b[0m \u001b[0;34m=\u001b[0m \u001b[0;36m1\u001b[0m\u001b[0;34m\u001b[0m\u001b[0;34m\u001b[0m\u001b[0m\n\u001b[1;32m      9\u001b[0m             \u001b[0;32melif\u001b[0m \u001b[0;34m(\u001b[0m\u001b[0mmask\u001b[0m\u001b[0;34m[\u001b[0m\u001b[0mi\u001b[0m\u001b[0;34m,\u001b[0m\u001b[0mj\u001b[0m\u001b[0;34m,\u001b[0m\u001b[0;36m0\u001b[0m\u001b[0;34m]\u001b[0m\u001b[0;34m>=\u001b[0m\u001b[0;36m125\u001b[0m \u001b[0;32mand\u001b[0m \u001b[0mmask\u001b[0m\u001b[0;34m[\u001b[0m\u001b[0mi\u001b[0m\u001b[0;34m,\u001b[0m\u001b[0mj\u001b[0m\u001b[0;34m,\u001b[0m\u001b[0;36m1\u001b[0m\u001b[0;34m]\u001b[0m\u001b[0;34m>=\u001b[0m\u001b[0;36m125\u001b[0m \u001b[0;32mand\u001b[0m \u001b[0mmask\u001b[0m\u001b[0;34m[\u001b[0m\u001b[0mi\u001b[0m\u001b[0;34m,\u001b[0m\u001b[0mj\u001b[0m\u001b[0;34m,\u001b[0m\u001b[0;36m2\u001b[0m\u001b[0;34m]\u001b[0m\u001b[0;34m>=\u001b[0m\u001b[0;36m125\u001b[0m\u001b[0;34m)\u001b[0m\u001b[0;34m:\u001b[0m\u001b[0;34m\u001b[0m\u001b[0;34m\u001b[0m\u001b[0m\n\u001b[0;32m---> 10\u001b[0;31m                 \u001b[0msal\u001b[0m\u001b[0;34m[\u001b[0m\u001b[0mi\u001b[0m\u001b[0;34m,\u001b[0m \u001b[0mj\u001b[0m\u001b[0;34m]\u001b[0m \u001b[0;34m=\u001b[0m \u001b[0;36m1\u001b[0m\u001b[0;34m\u001b[0m\u001b[0;34m\u001b[0m\u001b[0m\n\u001b[0m\u001b[1;32m     11\u001b[0m             \u001b[0;32melse\u001b[0m\u001b[0;34m:\u001b[0m \u001b[0;32mpass\u001b[0m\u001b[0;34m\u001b[0m\u001b[0;34m\u001b[0m\u001b[0m\n\u001b[1;32m     12\u001b[0m     \u001b[0;32mreturn\u001b[0m \u001b[0mnp\u001b[0m\u001b[0;34m.\u001b[0m\u001b[0mexpand_dims\u001b[0m\u001b[0;34m(\u001b[0m\u001b[0msal\u001b[0m\u001b[0;34m,\u001b[0m \u001b[0maxis\u001b[0m\u001b[0;34m=\u001b[0m\u001b[0;34m-\u001b[0m\u001b[0;36m1\u001b[0m\u001b[0;34m)\u001b[0m\u001b[0;34m\u001b[0m\u001b[0;34m\u001b[0m\u001b[0m\n",
            "\u001b[0;31mKeyboardInterrupt\u001b[0m: "
          ]
        }
      ]
    },
    {
      "cell_type": "code",
      "source": [
        "num_epochs = 1\n",
        "\n",
        "suimnet2 = model.fit(train_gen,\n",
        "                    steps_per_epoch = 10,\n",
        "                    epochs = num_epochs,\n",
        "                    callbacks = [model_checkpoint])"
      ],
      "metadata": {
        "colab": {
          "base_uri": "https://localhost:8080/"
        },
        "id": "gAB7hbtMgdhc",
        "outputId": "601cb572-5cfb-42eb-9a13-1f4fc6470fb7"
      },
      "execution_count": 250,
      "outputs": [
        {
          "output_type": "stream",
          "name": "stdout",
          "text": [
            "10/10 [==============================] - ETA: 0s - loss: 0.7285 - accuracy: 0.6467\n",
            "Epoch 1: loss did not improve from 0.00083\n",
            "10/10 [==============================] - 24s 297ms/step - loss: 0.7285 - accuracy: 0.6467\n"
          ]
        }
      ]
    },
    {
      "cell_type": "code",
      "source": [
        "import matplotlib.pyplot as plt\n",
        "plt.plot(suimnet2.history['accuracy'])"
      ],
      "metadata": {
        "colab": {
          "base_uri": "https://localhost:8080/",
          "height": 447
        },
        "id": "6X6woQVQoBZt",
        "outputId": "e73873d4-d091-42eb-99f0-c690a2ed6291"
      },
      "execution_count": 252,
      "outputs": [
        {
          "output_type": "execute_result",
          "data": {
            "text/plain": [
              "[<matplotlib.lines.Line2D at 0x7b7342924940>]"
            ]
          },
          "metadata": {},
          "execution_count": 252
        },
        {
          "output_type": "display_data",
          "data": {
            "text/plain": [
              "<Figure size 640x480 with 1 Axes>"
            ],
            "image/png": "[encoded data removed]"
          },
          "metadata": {}
        }
      ]
    },
    {
      "cell_type": "code",
      "source": [
        "plt.plot(suimnet2.history['loss'])"
      ],
      "metadata": {
        "colab": {
          "base_uri": "https://localhost:8080/",
          "height": 447
        },
        "id": "N_dfA_yToFCR",
        "outputId": "a75d33e1-7d0a-4f4c-cb7e-046755dc1c09"
      },
      "execution_count": 156,
      "outputs": [
        {
          "output_type": "execute_result",
          "data": {
            "text/plain": [
              "[<matplotlib.lines.Line2D at 0x7b7328c12b30>]"
            ]
          },
          "metadata": {},
          "execution_count": 156
        },
        {
          "output_type": "display_data",
          "data": {
            "text/plain": [
              "<Figure size 640x480 with 1 Axes>"
            ],
            "image/png": "[encoded data removed]"
          },
          "metadata": {}
        }
      ]
    },
    {
      "cell_type": "code",
      "source": [
        "def change_image_extension(test_fold):\n",
        "  for item in sorted(os.listdir(test_fold)):\n",
        "    path = f\"{test_fold}/{item}\"\n",
        "    img = Image.open(path)\n",
        "    new_path = path.split('.')[0]+'.jpg'\n",
        "    os.remove(path)\n",
        "    img.save(new_path)\n",
        "change_image_extension('test')"
      ],
      "metadata": {
        "id": "v0Usz00rotRT"
      },
      "execution_count": 253,
      "outputs": []
    },
    {
      "cell_type": "code",
      "source": [
        "im = Image.open('/content/label/2.jpg')\n",
        "im = im.convert('RGB')\n",
        "im = im.resize((320, 240))\n",
        "im = np.array(im)\n",
        "im = np.expand_dims(im, axis=0)"
      ],
      "metadata": {
        "id": "xPsC4qwSoh_4"
      },
      "execution_count": 257,
      "outputs": []
    },
    {
      "cell_type": "code",
      "source": [
        "im.shape"
      ],
      "metadata": {
        "colab": {
          "base_uri": "https://localhost:8080/"
        },
        "id": "iZm2pBWvqXoL",
        "outputId": "14377ffc-913c-4c1a-dd35-796bb7d816c4"
      },
      "execution_count": 258,
      "outputs": [
        {
          "output_type": "execute_result",
          "data": {
            "text/plain": [
              "(1, 240, 320, 3)"
            ]
          },
          "metadata": {},
          "execution_count": 258
        }
      ]
    },
    {
      "cell_type": "code",
      "source": [
        "ans = model.predict(im)\n",
        "answer = ans.astype('int8')\n",
        "answer = np.squeeze(answer,axis=0)"
      ],
      "metadata": {
        "colab": {
          "base_uri": "https://localhost:8080/"
        },
        "id": "VJ2s1QDzpiNh",
        "outputId": "e3a7e027-b683-4724-efc8-75d0ae39ba4e"
      },
      "execution_count": 259,
      "outputs": [
        {
          "output_type": "stream",
          "name": "stdout",
          "text": [
            "1/1 [==============================] - 1s 895ms/step\n"
          ]
        }
      ]
    },
    {
      "cell_type": "code",
      "source": [
        "np.unique(answer)"
      ],
      "metadata": {
        "colab": {
          "base_uri": "https://localhost:8080/"
        },
        "id": "FEHy0oy_q3Ss",
        "outputId": "bb982592-2d41-4a5c-c75a-ec7162f16bed"
      },
      "execution_count": 260,
      "outputs": [
        {
          "output_type": "execute_result",
          "data": {
            "text/plain": [
              "array([0, 1], dtype=int8)"
            ]
          },
          "metadata": {},
          "execution_count": 260
        }
      ]
    },
    {
      "cell_type": "code",
      "source": [
        "plt.imshow(answer, cmap='Greys')"
      ],
      "metadata": {
        "colab": {
          "base_uri": "https://localhost:8080/",
          "height": 452
        },
        "id": "DBn-_VMfsVVr",
        "outputId": "5b9c1a36-ba60-4096-eb57-c574e046e60a"
      },
      "execution_count": 261,
      "outputs": [
        {
          "output_type": "execute_result",
          "data": {
            "text/plain": [
              "<matplotlib.image.AxesImage at 0x7b73c3bb5ab0>"
            ]
          },
          "metadata": {},
          "execution_count": 261
        },
        {
          "output_type": "display_data",
          "data": {
            "text/plain": [
              "<Figure size 640x480 with 1 Axes>"
            ],
            "image/png": "[encoded data removed]"
          },
          "metadata": {}
        }
      ]
    },
    {
      "cell_type": "code",
      "source": [],
      "metadata": {
        "id": "FKV__0Sr1bEg"
      },
      "execution_count": null,
      "outputs": []
    },
    {
      "cell_type": "code",
      "source": [
        "im = Image.open('/content/label/2.jpg')\n",
        "im = im.convert('RGB')\n",
        "im = np.array(im)\n",
        "im"
      ],
      "metadata": {
        "colab": {
          "base_uri": "https://localhost:8080/"
        },
        "id": "RrQS20jt1bIs",
        "outputId": "4fe70d6e-cc75-4454-e669-83a194871518"
      },
      "execution_count": 312,
      "outputs": [
        {
          "output_type": "execute_result",
          "data": {
            "text/plain": [
              "array([[[254, 254, 254],\n",
              "        [255, 255, 255],\n",
              "        [255, 255, 255],\n",
              "        ...,\n",
              "        [255, 255, 255],\n",
              "        [255, 255, 255],\n",
              "        [255, 255, 255]],\n",
              "\n",
              "       [[255, 255, 255],\n",
              "        [245, 245, 245],\n",
              "        [255, 255, 255],\n",
              "        ...,\n",
              "        [255, 255, 255],\n",
              "        [255, 255, 255],\n",
              "        [255, 255, 255]],\n",
              "\n",
              "       [[255, 255, 255],\n",
              "        [249, 249, 249],\n",
              "        [249, 249, 249],\n",
              "        ...,\n",
              "        [255, 255, 255],\n",
              "        [255, 255, 255],\n",
              "        [255, 255, 255]],\n",
              "\n",
              "       ...,\n",
              "\n",
              "       [[255, 255, 255],\n",
              "        [236, 236, 236],\n",
              "        [255, 255, 255],\n",
              "        ...,\n",
              "        [255, 255, 255],\n",
              "        [255, 255, 255],\n",
              "        [255, 255, 255]],\n",
              "\n",
              "       [[250, 250, 250],\n",
              "        [255, 255, 255],\n",
              "        [240, 240, 240],\n",
              "        ...,\n",
              "        [255, 255, 255],\n",
              "        [255, 255, 255],\n",
              "        [255, 255, 255]],\n",
              "\n",
              "       [[255, 255, 255],\n",
              "        [249, 249, 249],\n",
              "        [255, 255, 255],\n",
              "        ...,\n",
              "        [255, 255, 255],\n",
              "        [255, 255, 255],\n",
              "        [255, 255, 255]]], dtype=uint8)"
            ]
          },
          "metadata": {},
          "execution_count": 312
        }
      ]
    }
  ],
  "metadata": {
    "accelerator": "GPU",
    "colab": {
      "provenance": []
    },
    "kernelspec": {
      "display_name": "Python 3",
      "name": "python3"
    }
  },
  "nbformat": 4,
  "nbformat_minor": 0
}