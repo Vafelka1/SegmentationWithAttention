{
  "cells": [
    {
      "cell_type": "code",
      "execution_count": 9,
      "id": "9534ee85",
      "metadata": {
        "colab": {
          "base_uri": "https://localhost:8080/"
        },
        "id": "9534ee85",
        "outputId": "d2e464cd-5cc4-4d57-a4b7-434ce3dbb49a"
      },
      "outputs": [
        {
          "output_type": "stream",
          "name": "stdout",
          "text": [
            "/content\n"
          ]
        }
      ],
      "source": [
        "!pwd"
      ]
    },
    {
      "cell_type": "code",
      "source": [
        "!nvidia-smi"
      ],
      "metadata": {
        "colab": {
          "base_uri": "https://localhost:8080/"
        },
        "id": "iXM_gyJeUizZ",
        "outputId": "01abc125-2799-44ec-c7e9-dc66fa516ffd"
      },
      "id": "iXM_gyJeUizZ",
      "execution_count": 2,
      "outputs": [
        {
          "output_type": "stream",
          "name": "stdout",
          "text": [
            "Sat Apr 30 02:28:26 2022       \n",
            "+-----------------------------------------------------------------------------+\n",
            "| NVIDIA-SMI 460.32.03    Driver Version: 460.32.03    CUDA Version: 11.2     |\n",
            "|-------------------------------+----------------------+----------------------+\n",
            "| GPU  Name        Persistence-M| Bus-Id        Disp.A | Volatile Uncorr. ECC |\n",
            "| Fan  Temp  Perf  Pwr:Usage/Cap|         Memory-Usage | GPU-Util  Compute M. |\n",
            "|                               |                      |               MIG M. |\n",
            "|===============================+======================+======================|\n",
            "|   0  Tesla P100-PCIE...  Off  | 00000000:00:04.0 Off |                    0 |\n",
            "| N/A   35C    P0    27W / 250W |      0MiB / 16280MiB |      0%      Default |\n",
            "|                               |                      |                  N/A |\n",
            "+-------------------------------+----------------------+----------------------+\n",
            "                                                                               \n",
            "+-----------------------------------------------------------------------------+\n",
            "| Processes:                                                                  |\n",
            "|  GPU   GI   CI        PID   Type   Process name                  GPU Memory |\n",
            "|        ID   ID                                                   Usage      |\n",
            "|=============================================================================|\n",
            "|  No running processes found                                                 |\n",
            "+-----------------------------------------------------------------------------+\n"
          ]
        }
      ]
    },
    {
      "cell_type": "code",
      "source": [
        "from google.colab import drive\n",
        "drive.mount('/content/drive')"
      ],
      "metadata": {
        "colab": {
          "base_uri": "https://localhost:8080/"
        },
        "id": "joY--_aBUWHO",
        "outputId": "c0da0ca9-a6f2-4f75-ecfe-2709c25f0140"
      },
      "id": "joY--_aBUWHO",
      "execution_count": 3,
      "outputs": [
        {
          "output_type": "stream",
          "name": "stdout",
          "text": [
            "Mounted at /content/drive\n"
          ]
        }
      ]
    },
    {
      "cell_type": "code",
      "execution_count": 4,
      "id": "86832afb",
      "metadata": {
        "id": "86832afb"
      },
      "outputs": [],
      "source": [
        "from __future__ import print_function, division\n",
        "import os\n",
        "import math\n",
        "from os.path import join, exists\n",
        "from keras import callbacks\n",
        "# local libs\n",
        "from drive.MyDrive.CVproject.models.suim_net import SUIM_Net\n",
        "from drive.MyDrive.CVproject.utils.data_utils import trainDataGenerator"
      ]
    },
    {
      "cell_type": "code",
      "execution_count": 5,
      "id": "5659e620",
      "metadata": {
        "id": "5659e620"
      },
      "outputs": [],
      "source": [
        "## dataset directory\n",
        "dataset_name = \"suim\"\n",
        "train_dir = \"/content/drive/MyDrive/CVproject/train_val\""
      ]
    },
    {
      "cell_type": "code",
      "execution_count": 6,
      "id": "62d29360",
      "metadata": {
        "id": "62d29360"
      },
      "outputs": [],
      "source": [
        "## ckpt directory\n",
        "ckpt_dir = \"drive/MyDrive/CVproject/\"\n",
        "base_ = 'RSB' # or 'VGG'\n",
        "if base_=='RSB':\n",
        "    im_res_ = (320, 240, 3)\n",
        "    ckpt_name = \"suimnet_rsb02.hdf5\"\n",
        "else:\n",
        "    im_res_ = (320, 256, 3)\n",
        "    ckpt_name = \"suimnet_vgg.hdf5\"\n",
        "model_ckpt_name = join(ckpt_dir, ckpt_name)\n",
        "if not exists(ckpt_dir): os.makedirs(ckpt_dir)"
      ]
    },
    {
      "cell_type": "code",
      "execution_count": 41,
      "id": "17e7ec51",
      "metadata": {
        "colab": {
          "base_uri": "https://localhost:8080/"
        },
        "id": "17e7ec51",
        "outputId": "bbd8a94d-f577-484e-d801-980d0e181b68"
      },
      "outputs": [
        {
          "output_type": "stream",
          "name": "stdout",
          "text": [
            "2.8.0\n"
          ]
        }
      ],
      "source": [
        "import tensorflow as tf\n",
        "print(tf.__version__)"
      ]
    },
    {
      "cell_type": "code",
      "execution_count": 7,
      "id": "260153f4",
      "metadata": {
        "scrolled": true,
        "colab": {
          "base_uri": "https://localhost:8080/"
        },
        "id": "260153f4",
        "outputId": "8e2ea5cd-6665-4cd6-d2a9-3d39cf94ee9a"
      },
      "outputs": [
        {
          "output_type": "stream",
          "name": "stdout",
          "text": [
            "Triplet Attention!\n",
            "ATTENTION!\n",
            "Model: \"model\"\n",
            "__________________________________________________________________________________________________\n",
            " Layer (type)                   Output Shape         Param #     Connected to                     \n",
            "==================================================================================================\n",
            " input_1 (InputLayer)           [(None, 240, 320, 3  0           []                               \n",
            "                                )]                                                                \n",
            "                                                                                                  \n",
            " conv2d_3 (Conv2D)              (None, 236, 316, 64  4864        ['input_1[0][0]']                \n",
            "                                )                                                                 \n",
            "                                                                                                  \n",
            " batch_normalization_3 (BatchNo  (None, 236, 316, 64  256        ['conv2d_3[0][0]']               \n",
            " rmalization)                   )                                                                 \n",
            "                                                                                                  \n",
            " activation (Activation)        (None, 236, 316, 64  0           ['batch_normalization_3[0][0]']  \n",
            "                                )                                                                 \n",
            "                                                                                                  \n",
            " max_pooling2d (MaxPooling2D)   (None, 117, 157, 64  0           ['activation[0][0]']             \n",
            "                                )                                                                 \n",
            "                                                                                                  \n",
            " conv2d_4 (Conv2D)              (None, 59, 79, 64)   4160        ['max_pooling2d[0][0]']          \n",
            "                                                                                                  \n",
            " batch_normalization_4 (BatchNo  (None, 59, 79, 64)  256         ['conv2d_4[0][0]']               \n",
            " rmalization)                                                                                     \n",
            "                                                                                                  \n",
            " activation_1 (Activation)      (None, 59, 79, 64)   0           ['batch_normalization_4[0][0]']  \n",
            "                                                                                                  \n",
            " conv2d_5 (Conv2D)              (None, 59, 79, 64)   36928       ['activation_1[0][0]']           \n",
            "                                                                                                  \n",
            " batch_normalization_5 (BatchNo  (None, 59, 79, 64)  256         ['conv2d_5[0][0]']               \n",
            " rmalization)                                                                                     \n",
            "                                                                                                  \n",
            " activation_2 (Activation)      (None, 59, 79, 64)   0           ['batch_normalization_5[0][0]']  \n",
            "                                                                                                  \n",
            " conv2d_6 (Conv2D)              (None, 59, 79, 128)  8320        ['activation_2[0][0]']           \n",
            "                                                                                                  \n",
            " conv2d_7 (Conv2D)              (None, 59, 79, 128)  8320        ['max_pooling2d[0][0]']          \n",
            "                                                                                                  \n",
            " batch_normalization_6 (BatchNo  (None, 59, 79, 128)  512        ['conv2d_6[0][0]']               \n",
            " rmalization)                                                                                     \n",
            "                                                                                                  \n",
            " batch_normalization_7 (BatchNo  (None, 59, 79, 128)  512        ['conv2d_7[0][0]']               \n",
            " rmalization)                                                                                     \n",
            "                                                                                                  \n",
            " add (Add)                      (None, 59, 79, 128)  0           ['batch_normalization_6[0][0]',  \n",
            "                                                                  'batch_normalization_7[0][0]']  \n",
            "                                                                                                  \n",
            " activation_3 (Activation)      (None, 59, 79, 128)  0           ['add[0][0]']                    \n",
            "                                                                                                  \n",
            " conv2d_8 (Conv2D)              (None, 59, 79, 64)   8256        ['activation_3[0][0]']           \n",
            "                                                                                                  \n",
            " batch_normalization_8 (BatchNo  (None, 59, 79, 64)  256         ['conv2d_8[0][0]']               \n",
            " rmalization)                                                                                     \n",
            "                                                                                                  \n",
            " activation_4 (Activation)      (None, 59, 79, 64)   0           ['batch_normalization_8[0][0]']  \n",
            "                                                                                                  \n",
            " conv2d_9 (Conv2D)              (None, 59, 79, 64)   36928       ['activation_4[0][0]']           \n",
            "                                                                                                  \n",
            " batch_normalization_9 (BatchNo  (None, 59, 79, 64)  256         ['conv2d_9[0][0]']               \n",
            " rmalization)                                                                                     \n",
            "                                                                                                  \n",
            " activation_5 (Activation)      (None, 59, 79, 64)   0           ['batch_normalization_9[0][0]']  \n",
            "                                                                                                  \n",
            " conv2d_10 (Conv2D)             (None, 59, 79, 128)  8320        ['activation_5[0][0]']           \n",
            "                                                                                                  \n",
            " batch_normalization_10 (BatchN  (None, 59, 79, 128)  512        ['conv2d_10[0][0]']              \n",
            " ormalization)                                                                                    \n",
            "                                                                                                  \n",
            " add_1 (Add)                    (None, 59, 79, 128)  0           ['batch_normalization_10[0][0]', \n",
            "                                                                  'activation_3[0][0]']           \n",
            "                                                                                                  \n",
            " activation_6 (Activation)      (None, 59, 79, 128)  0           ['add_1[0][0]']                  \n",
            "                                                                                                  \n",
            " conv2d_11 (Conv2D)             (None, 59, 79, 64)   8256        ['activation_6[0][0]']           \n",
            "                                                                                                  \n",
            " batch_normalization_11 (BatchN  (None, 59, 79, 64)  256         ['conv2d_11[0][0]']              \n",
            " ormalization)                                                                                    \n",
            "                                                                                                  \n",
            " activation_7 (Activation)      (None, 59, 79, 64)   0           ['batch_normalization_11[0][0]'] \n",
            "                                                                                                  \n",
            " conv2d_12 (Conv2D)             (None, 59, 79, 64)   36928       ['activation_7[0][0]']           \n",
            "                                                                                                  \n",
            " batch_normalization_12 (BatchN  (None, 59, 79, 64)  256         ['conv2d_12[0][0]']              \n",
            " ormalization)                                                                                    \n",
            "                                                                                                  \n",
            " activation_8 (Activation)      (None, 59, 79, 64)   0           ['batch_normalization_12[0][0]'] \n",
            "                                                                                                  \n",
            " conv2d_13 (Conv2D)             (None, 59, 79, 128)  8320        ['activation_8[0][0]']           \n",
            "                                                                                                  \n",
            " batch_normalization_13 (BatchN  (None, 59, 79, 128)  512        ['conv2d_13[0][0]']              \n",
            " ormalization)                                                                                    \n",
            "                                                                                                  \n",
            " add_2 (Add)                    (None, 59, 79, 128)  0           ['batch_normalization_13[0][0]', \n",
            "                                                                  'activation_6[0][0]']           \n",
            "                                                                                                  \n",
            " activation_9 (Activation)      (None, 59, 79, 128)  0           ['add_2[0][0]']                  \n",
            "                                                                                                  \n",
            " conv2d_14 (Conv2D)             (None, 30, 40, 128)  16512       ['activation_9[0][0]']           \n",
            "                                                                                                  \n",
            " batch_normalization_14 (BatchN  (None, 30, 40, 128)  512        ['conv2d_14[0][0]']              \n",
            " ormalization)                                                                                    \n",
            "                                                                                                  \n",
            " activation_10 (Activation)     (None, 30, 40, 128)  0           ['batch_normalization_14[0][0]'] \n",
            "                                                                                                  \n",
            " conv2d_15 (Conv2D)             (None, 30, 40, 128)  147584      ['activation_10[0][0]']          \n",
            "                                                                                                  \n",
            " batch_normalization_15 (BatchN  (None, 30, 40, 128)  512        ['conv2d_15[0][0]']              \n",
            " ormalization)                                                                                    \n",
            "                                                                                                  \n",
            " activation_11 (Activation)     (None, 30, 40, 128)  0           ['batch_normalization_15[0][0]'] \n",
            "                                                                                                  \n",
            " conv2d_16 (Conv2D)             (None, 30, 40, 256)  33024       ['activation_11[0][0]']          \n",
            "                                                                                                  \n",
            " conv2d_17 (Conv2D)             (None, 30, 40, 256)  33024       ['activation_9[0][0]']           \n",
            "                                                                                                  \n",
            " batch_normalization_16 (BatchN  (None, 30, 40, 256)  1024       ['conv2d_16[0][0]']              \n",
            " ormalization)                                                                                    \n",
            "                                                                                                  \n",
            " batch_normalization_17 (BatchN  (None, 30, 40, 256)  1024       ['conv2d_17[0][0]']              \n",
            " ormalization)                                                                                    \n",
            "                                                                                                  \n",
            " add_3 (Add)                    (None, 30, 40, 256)  0           ['batch_normalization_16[0][0]', \n",
            "                                                                  'batch_normalization_17[0][0]'] \n",
            "                                                                                                  \n",
            " activation_12 (Activation)     (None, 30, 40, 256)  0           ['add_3[0][0]']                  \n",
            "                                                                                                  \n",
            " conv2d_18 (Conv2D)             (None, 30, 40, 128)  32896       ['activation_12[0][0]']          \n",
            "                                                                                                  \n",
            " batch_normalization_18 (BatchN  (None, 30, 40, 128)  512        ['conv2d_18[0][0]']              \n",
            " ormalization)                                                                                    \n",
            "                                                                                                  \n",
            " activation_13 (Activation)     (None, 30, 40, 128)  0           ['batch_normalization_18[0][0]'] \n",
            "                                                                                                  \n",
            " conv2d_19 (Conv2D)             (None, 30, 40, 128)  147584      ['activation_13[0][0]']          \n",
            "                                                                                                  \n",
            " batch_normalization_19 (BatchN  (None, 30, 40, 128)  512        ['conv2d_19[0][0]']              \n",
            " ormalization)                                                                                    \n",
            "                                                                                                  \n",
            " activation_14 (Activation)     (None, 30, 40, 128)  0           ['batch_normalization_19[0][0]'] \n",
            "                                                                                                  \n",
            " conv2d_20 (Conv2D)             (None, 30, 40, 256)  33024       ['activation_14[0][0]']          \n",
            "                                                                                                  \n",
            " batch_normalization_20 (BatchN  (None, 30, 40, 256)  1024       ['conv2d_20[0][0]']              \n",
            " ormalization)                                                                                    \n",
            "                                                                                                  \n",
            " add_4 (Add)                    (None, 30, 40, 256)  0           ['batch_normalization_20[0][0]', \n",
            "                                                                  'activation_12[0][0]']          \n",
            "                                                                                                  \n",
            " activation_15 (Activation)     (None, 30, 40, 256)  0           ['add_4[0][0]']                  \n",
            "                                                                                                  \n",
            " conv2d_21 (Conv2D)             (None, 30, 40, 128)  32896       ['activation_15[0][0]']          \n",
            "                                                                                                  \n",
            " batch_normalization_21 (BatchN  (None, 30, 40, 128)  512        ['conv2d_21[0][0]']              \n",
            " ormalization)                                                                                    \n",
            "                                                                                                  \n",
            " activation_16 (Activation)     (None, 30, 40, 128)  0           ['batch_normalization_21[0][0]'] \n",
            "                                                                                                  \n",
            " conv2d_22 (Conv2D)             (None, 30, 40, 128)  147584      ['activation_16[0][0]']          \n",
            "                                                                                                  \n",
            " batch_normalization_22 (BatchN  (None, 30, 40, 128)  512        ['conv2d_22[0][0]']              \n",
            " ormalization)                                                                                    \n",
            "                                                                                                  \n",
            " activation_17 (Activation)     (None, 30, 40, 128)  0           ['batch_normalization_22[0][0]'] \n",
            "                                                                                                  \n",
            " conv2d_23 (Conv2D)             (None, 30, 40, 256)  33024       ['activation_17[0][0]']          \n",
            "                                                                                                  \n",
            " batch_normalization_23 (BatchN  (None, 30, 40, 256)  1024       ['conv2d_23[0][0]']              \n"
          ]
        },
        {
          "output_type": "stream",
          "name": "stderr",
          "text": [
            "/usr/local/lib/python3.7/dist-packages/keras/optimizer_v2/adam.py:105: UserWarning: The `lr` argument is deprecated, use `learning_rate` instead.\n",
            "  super(Adam, self).__init__(name, **kwargs)\n"
          ]
        },
        {
          "output_type": "stream",
          "name": "stdout",
          "text": [
            " ormalization)                                                                                    \n",
            "                                                                                                  \n",
            " add_5 (Add)                    (None, 30, 40, 256)  0           ['batch_normalization_23[0][0]', \n",
            "                                                                  'activation_15[0][0]']          \n",
            "                                                                                                  \n",
            " activation_18 (Activation)     (None, 30, 40, 256)  0           ['add_5[0][0]']                  \n",
            "                                                                                                  \n",
            " conv2d_24 (Conv2D)             (None, 30, 40, 128)  32896       ['activation_18[0][0]']          \n",
            "                                                                                                  \n",
            " batch_normalization_24 (BatchN  (None, 30, 40, 128)  512        ['conv2d_24[0][0]']              \n",
            " ormalization)                                                                                    \n",
            "                                                                                                  \n",
            " activation_19 (Activation)     (None, 30, 40, 128)  0           ['batch_normalization_24[0][0]'] \n",
            "                                                                                                  \n",
            " conv2d_25 (Conv2D)             (None, 30, 40, 128)  147584      ['activation_19[0][0]']          \n",
            "                                                                                                  \n",
            " batch_normalization_25 (BatchN  (None, 30, 40, 128)  512        ['conv2d_25[0][0]']              \n",
            " ormalization)                                                                                    \n",
            "                                                                                                  \n",
            " activation_20 (Activation)     (None, 30, 40, 128)  0           ['batch_normalization_25[0][0]'] \n",
            "                                                                                                  \n",
            " conv2d_26 (Conv2D)             (None, 30, 40, 256)  33024       ['activation_20[0][0]']          \n",
            "                                                                                                  \n",
            " batch_normalization_26 (BatchN  (None, 30, 40, 256)  1024       ['conv2d_26[0][0]']              \n",
            " ormalization)                                                                                    \n",
            "                                                                                                  \n",
            " add_6 (Add)                    (None, 30, 40, 256)  0           ['batch_normalization_26[0][0]', \n",
            "                                                                  'activation_18[0][0]']          \n",
            "                                                                                                  \n",
            " activation_21 (Activation)     (None, 30, 40, 256)  0           ['add_6[0][0]']                  \n",
            "                                                                                                  \n",
            " conv2d_27 (Conv2D)             (None, 30, 40, 256)  590080      ['activation_21[0][0]']          \n",
            "                                                                                                  \n",
            " lambda_1 (Lambda)              (None, 58, 78, 128)  0           ['activation_9[0][0]']           \n",
            "                                                                                                  \n",
            " batch_normalization_27 (BatchN  (None, 30, 40, 256)  1024       ['conv2d_27[0][0]']              \n",
            " ormalization)                                                                                    \n",
            "                                                                                                  \n",
            " tf.math.reduce_mean (TFOpLambd  (None, 236)         0           ['conv2d_3[0][0]']               \n",
            " a)                                                                                               \n",
            "                                                                                                  \n",
            " zero_padding2d_1 (ZeroPadding2  (None, 60, 80, 128)  0          ['lambda_1[0][0]']               \n",
            " D)                                                                                               \n",
            "                                                                                                  \n",
            " up_sampling2d (UpSampling2D)   (None, 60, 80, 256)  0           ['batch_normalization_27[0][0]'] \n",
            "                                                                                                  \n",
            " tf.expand_dims (TFOpLambda)    (None, 1, 236)       0           ['tf.math.reduce_mean[0][0]']    \n",
            "                                                                                                  \n",
            " conv2d_28 (Conv2D)             (None, 60, 80, 256)  295168      ['zero_padding2d_1[0][0]']       \n",
            "                                                                                                  \n",
            " lambda (Lambda)                (None, 58, 78, 256)  0           ['up_sampling2d[0][0]']          \n",
            "                                                                                                  \n",
            " conv1d (Conv1D)                (None, 1, 1)         708         ['tf.expand_dims[0][0]']         \n",
            "                                                                                                  \n",
            " batch_normalization_28 (BatchN  (None, 60, 80, 256)  1024       ['conv2d_28[0][0]']              \n",
            " ormalization)                                                                                    \n",
            "                                                                                                  \n",
            " zero_padding2d (ZeroPadding2D)  (None, 60, 80, 256)  0          ['lambda[0][0]']                 \n",
            "                                                                                                  \n",
            " tf.compat.v1.transpose (TFOpLa  (None, 1, 1)        0           ['conv1d[0][0]']                 \n",
            " mbda)                                                                                            \n",
            "                                                                                                  \n",
            " concatenate (Concatenate)      (None, 60, 80, 512)  0           ['batch_normalization_28[0][0]', \n",
            "                                                                  'zero_padding2d[0][0]']         \n",
            "                                                                                                  \n",
            " tf.expand_dims_1 (TFOpLambda)  (None, 1, 1, 1)      0           ['tf.compat.v1.transpose[0][0]'] \n",
            "                                                                                                  \n",
            " conv2d_29 (Conv2D)             (None, 60, 80, 256)  1179904     ['concatenate[0][0]']            \n",
            "                                                                                                  \n",
            " tf.math.sigmoid (TFOpLambda)   (None, 1, 1, 1)      0           ['tf.expand_dims_1[0][0]']       \n",
            "                                                                                                  \n",
            " batch_normalization_29 (BatchN  (None, 60, 80, 256)  1024       ['conv2d_29[0][0]']              \n",
            " ormalization)                                                                                    \n",
            "                                                                                                  \n",
            " tf.math.multiply_1 (TFOpLambda  (None, 236, 316, 64  0          ['conv2d_3[0][0]',               \n",
            " )                              )                                 'tf.math.sigmoid[0][0]']        \n",
            "                                                                                                  \n",
            " up_sampling2d_1 (UpSampling2D)  (None, 120, 160, 25  0          ['batch_normalization_29[0][0]'] \n",
            "                                6)                                                                \n",
            "                                                                                                  \n",
            " zero_padding2d_2 (ZeroPadding2  (None, 240, 320, 64  0          ['tf.math.multiply_1[0][0]']     \n",
            " D)                             )                                                                 \n",
            "                                                                                                  \n",
            " conv2d_30 (Conv2D)             (None, 120, 160, 12  295040      ['up_sampling2d_1[0][0]']        \n",
            "                                8)                                                                \n",
            "                                                                                                  \n",
            " conv2d_31 (Conv2D)             (None, 240, 320, 12  73856       ['zero_padding2d_2[0][0]']       \n",
            "                                8)                                                                \n",
            "                                                                                                  \n",
            " batch_normalization_30 (BatchN  (None, 120, 160, 12  512        ['conv2d_30[0][0]']              \n",
            " ormalization)                  8)                                                                \n",
            "                                                                                                  \n",
            " batch_normalization_31 (BatchN  (None, 240, 320, 12  512        ['conv2d_31[0][0]']              \n",
            " ormalization)                  8)                                                                \n",
            "                                                                                                  \n",
            " up_sampling2d_2 (UpSampling2D)  (None, 240, 320, 12  0          ['batch_normalization_30[0][0]'] \n",
            "                                8)                                                                \n",
            "                                                                                                  \n",
            " concatenate_1 (Concatenate)    (None, 240, 320, 25  0           ['batch_normalization_31[0][0]', \n",
            "                                6)                                'up_sampling2d_2[0][0]']        \n",
            "                                                                                                  \n",
            " conv2d_32 (Conv2D)             (None, 240, 320, 12  295040      ['concatenate_1[0][0]']          \n",
            "                                8)                                                                \n",
            "                                                                                                  \n",
            " batch_normalization_32 (BatchN  (None, 240, 320, 12  512        ['conv2d_32[0][0]']              \n",
            " ormalization)                  8)                                                                \n",
            "                                                                                                  \n",
            " conv2d_33 (Conv2D)             (None, 240, 320, 64  73792       ['batch_normalization_32[0][0]'] \n",
            "                                )                                                                 \n",
            "                                                                                                  \n",
            " batch_normalization_33 (BatchN  (None, 240, 320, 64  256        ['conv2d_33[0][0]']              \n",
            " ormalization)                  )                                                                 \n",
            "                                                                                                  \n",
            " conv2d_34 (Conv2D)             (None, 240, 320, 5)  2885        ['batch_normalization_33[0][0]'] \n",
            "                                                                                                  \n",
            "==================================================================================================\n",
            "Total params: 3,864,649\n",
            "Trainable params: 3,855,689\n",
            "Non-trainable params: 8,960\n",
            "__________________________________________________________________________________________________\n",
            "None\n"
          ]
        }
      ],
      "source": [
        "## initialize model\n",
        "suimnet = SUIM_Net(base=base_, im_res=im_res_, n_classes=5)\n",
        "model = suimnet.model\n",
        "print (model.summary())"
      ]
    },
    {
      "cell_type": "code",
      "execution_count": 8,
      "id": "5cf21e72",
      "metadata": {
        "colab": {
          "base_uri": "https://localhost:8080/"
        },
        "id": "5cf21e72",
        "outputId": "af798f13-25b8-4ef8-b8ae-1975b89de42a"
      },
      "outputs": [
        {
          "output_type": "stream",
          "name": "stdout",
          "text": [
            "/bin/bash: line 0: cd: ckpt: No such file or directory\n",
            "drive  sample_data\n"
          ]
        }
      ],
      "source": [
        "!cd ckpt\n",
        "!ls"
      ]
    },
    {
      "cell_type": "code",
      "execution_count": 8,
      "id": "34933cdd",
      "metadata": {
        "colab": {
          "base_uri": "https://localhost:8080/",
          "height": 35
        },
        "id": "34933cdd",
        "outputId": "b0958e7e-6636-494a-ff7f-bd152ad0b725"
      },
      "outputs": [
        {
          "output_type": "execute_result",
          "data": {
            "text/plain": [
              "'drive/MyDrive/CVproject/suimnet_rsb02.hdf5'"
            ],
            "application/vnd.google.colaboratory.intrinsic+json": {
              "type": "string"
            }
          },
          "metadata": {},
          "execution_count": 8
        }
      ],
      "source": [
        "# Desktop/Desktop - MacBook Air/Courses/Computer Vision/Project/SUIMmaster/ckpt\n",
        "ckpt_dir = 'drive/MyDrive/CVproject/'\n",
        "model_ckpt_name = join(ckpt_dir, \"suimnet_rsb02.hdf5\")\n",
        "model_ckpt_name"
      ]
    },
    {
      "cell_type": "code",
      "execution_count": 9,
      "id": "232c2092",
      "metadata": {
        "id": "232c2092"
      },
      "outputs": [],
      "source": [
        "## load saved model\n",
        "model.load_weights(model_ckpt_name)"
      ]
    },
    {
      "cell_type": "code",
      "source": [
        "print(model.history)"
      ],
      "metadata": {
        "colab": {
          "base_uri": "https://localhost:8080/"
        },
        "id": "AFe-645zPED5",
        "outputId": "694a7a48-d81a-4027-a5ef-82283a6ac6cb"
      },
      "id": "AFe-645zPED5",
      "execution_count": 13,
      "outputs": [
        {
          "output_type": "stream",
          "name": "stdout",
          "text": [
            "None\n"
          ]
        }
      ]
    },
    {
      "cell_type": "code",
      "execution_count": 10,
      "id": "e09b8922",
      "metadata": {
        "id": "e09b8922"
      },
      "outputs": [],
      "source": [
        "batch_size = 4\n",
        "num_epochs = 40"
      ]
    },
    {
      "cell_type": "code",
      "execution_count": 11,
      "id": "f23c9344",
      "metadata": {
        "id": "f23c9344"
      },
      "outputs": [],
      "source": [
        "# setup data generator\n",
        "data_gen_args = dict(rotation_range=0.2,\n",
        "                    width_shift_range=0.05,\n",
        "                    height_shift_range=0.05,\n",
        "                    shear_range=0.05,\n",
        "                    zoom_range=0.05,\n",
        "                    horizontal_flip=True,\n",
        "                    fill_mode='nearest')"
      ]
    },
    {
      "cell_type": "code",
      "execution_count": 12,
      "id": "4224a17b",
      "metadata": {
        "id": "4224a17b"
      },
      "outputs": [],
      "source": [
        "model_checkpoint = callbacks.ModelCheckpoint(model_ckpt_name, \n",
        "                                   monitor = 'loss', \n",
        "                                   verbose = 1, mode= 'auto',\n",
        "                                   save_weights_only = True,\n",
        "                                   save_best_only = True)"
      ]
    },
    {
      "cell_type": "code",
      "execution_count": 13,
      "id": "ebeba0b3",
      "metadata": {
        "id": "ebeba0b3"
      },
      "outputs": [],
      "source": [
        "# data generator\n",
        "train_gen = trainDataGenerator(batch_size, # batch_size \n",
        "                              train_dir,# train-data dir\n",
        "                              \"images\", # image_folder \n",
        "                              \"masks\", # mask_folder\n",
        "                              data_gen_args, # aug_dict\n",
        "                              image_color_mode=\"rgb\", \n",
        "                              mask_color_mode=\"rgb\",\n",
        "                              target_size = (im_res_[1], im_res_[0]))"
      ]
    },
    {
      "cell_type": "code",
      "execution_count": null,
      "id": "dc348149",
      "metadata": {
        "id": "dc348149"
      },
      "outputs": [],
      "source": [
        "# img, label = next(train_gen)\n",
        "# label"
      ]
    },
    {
      "cell_type": "code",
      "execution_count": null,
      "id": "949f87e3",
      "metadata": {
        "id": "949f87e3"
      },
      "outputs": [],
      "source": [
        "# import matplotlib.pyplot as plt\n",
        "# for _ in range(1):\n",
        "#     img, label = next(train_gen)\n",
        "#     #print(img.shape)   #  (1,256,256,3)\n",
        "#     plt.imshow(img[0])\n",
        "#     plt.show()"
      ]
    },
    {
      "cell_type": "code",
      "source": [
        "# import wandb\n",
        "\n",
        "# wandb.login()"
      ],
      "metadata": {
        "id": "c5Zm_TisX_Qm"
      },
      "id": "c5Zm_TisX_Qm",
      "execution_count": null,
      "outputs": []
    },
    {
      "cell_type": "code",
      "source": [
        "# wandb.init(entity = \"hamudi\", project = \"SUIM-Net-pure\")"
      ],
      "metadata": {
        "id": "MoZbJeELYhaQ"
      },
      "id": "MoZbJeELYhaQ",
      "execution_count": null,
      "outputs": []
    },
    {
      "cell_type": "code",
      "source": [
        "# config = wandb.config\n",
        "# config.batch_size = 4\n",
        "# config.epochs = 50"
      ],
      "metadata": {
        "id": "oVYLneGvYuni"
      },
      "id": "oVYLneGvYuni",
      "execution_count": 21,
      "outputs": []
    },
    {
      "cell_type": "code",
      "source": [
        "# wandb_callback = wandb.keras.WandbCallback(monitor=\"accuracy\",log_weights=True)"
      ],
      "metadata": {
        "id": "5dOu80cJY24g"
      },
      "id": "5dOu80cJY24g",
      "execution_count": 22,
      "outputs": []
    },
    {
      "cell_type": "code",
      "source": [
        "# with open(\"drive/MyDrive/CVproject/suim02_iou\", \"wb\") as fp:   #Pickling\n",
        "#    pickle.dump(suimnet1.history['mean_io_u'], fp)"
      ],
      "metadata": {
        "id": "t0Mkc7xwt_LY"
      },
      "id": "t0Mkc7xwt_LY",
      "execution_count": null,
      "outputs": []
    },
    {
      "cell_type": "code",
      "execution_count": 14,
      "id": "934d58e7",
      "metadata": {
        "colab": {
          "base_uri": "https://localhost:8080/"
        },
        "id": "934d58e7",
        "outputId": "bc10686c-fb42-466e-9eba-d0d240c366ac"
      },
      "outputs": [
        {
          "output_type": "stream",
          "name": "stdout",
          "text": [
            "Found 1525 images belonging to 1 classes.\n",
            "Found 1525 images belonging to 1 classes.\n",
            "Epoch 1/40\n",
            "100/100 [==============================] - ETA: 0s - loss: 0.1819 - accuracy: 0.4040\n",
            "Epoch 1: loss improved from inf to 0.18192, saving model to drive/MyDrive/CVproject/suimnet_rsb02.hdf5\n",
            "100/100 [==============================] - 644s 6s/step - loss: 0.1819 - accuracy: 0.4040\n",
            "Epoch 2/40\n",
            "100/100 [==============================] - ETA: 0s - loss: 0.1738 - accuracy: 0.3908\n",
            "Epoch 2: loss improved from 0.18192 to 0.17379, saving model to drive/MyDrive/CVproject/suimnet_rsb02.hdf5\n",
            "100/100 [==============================] - 626s 6s/step - loss: 0.1738 - accuracy: 0.3908\n",
            "Epoch 3/40\n",
            "100/100 [==============================] - ETA: 0s - loss: 0.1861 - accuracy: 0.3803\n",
            "Epoch 3: loss did not improve from 0.17379\n",
            "100/100 [==============================] - 629s 6s/step - loss: 0.1861 - accuracy: 0.3803\n",
            "Epoch 4/40\n",
            "100/100 [==============================] - ETA: 0s - loss: 0.1898 - accuracy: 0.3794\n",
            "Epoch 4: loss did not improve from 0.17379\n",
            "100/100 [==============================] - 589s 6s/step - loss: 0.1898 - accuracy: 0.3794\n",
            "Epoch 5/40\n",
            "100/100 [==============================] - ETA: 0s - loss: 0.1855 - accuracy: 0.4011\n",
            "Epoch 5: loss did not improve from 0.17379\n",
            "100/100 [==============================] - 433s 4s/step - loss: 0.1855 - accuracy: 0.4011\n",
            "Epoch 6/40\n",
            "100/100 [==============================] - ETA: 0s - loss: 0.1813 - accuracy: 0.3918\n",
            "Epoch 6: loss did not improve from 0.17379\n",
            "100/100 [==============================] - 435s 4s/step - loss: 0.1813 - accuracy: 0.3918\n",
            "Epoch 7/40\n",
            "100/100 [==============================] - ETA: 0s - loss: 0.1754 - accuracy: 0.4018\n",
            "Epoch 7: loss did not improve from 0.17379\n",
            "100/100 [==============================] - 435s 4s/step - loss: 0.1754 - accuracy: 0.4018\n",
            "Epoch 8/40\n",
            "100/100 [==============================] - ETA: 0s - loss: 0.1766 - accuracy: 0.3909\n",
            "Epoch 8: loss did not improve from 0.17379\n",
            "100/100 [==============================] - 431s 4s/step - loss: 0.1766 - accuracy: 0.3909\n",
            "Epoch 9/40\n",
            "100/100 [==============================] - ETA: 0s - loss: 0.1706 - accuracy: 0.4078\n",
            "Epoch 9: loss improved from 0.17379 to 0.17058, saving model to drive/MyDrive/CVproject/suimnet_rsb02.hdf5\n",
            "100/100 [==============================] - 439s 4s/step - loss: 0.1706 - accuracy: 0.4078\n",
            "Epoch 10/40\n",
            "100/100 [==============================] - ETA: 0s - loss: 0.1855 - accuracy: 0.4020\n",
            "Epoch 10: loss did not improve from 0.17058\n",
            "100/100 [==============================] - 430s 4s/step - loss: 0.1855 - accuracy: 0.4020\n",
            "Epoch 11/40\n",
            "100/100 [==============================] - ETA: 0s - loss: 0.1858 - accuracy: 0.3751\n",
            "Epoch 11: loss did not improve from 0.17058\n",
            "100/100 [==============================] - 434s 4s/step - loss: 0.1858 - accuracy: 0.3751\n",
            "Epoch 12/40\n",
            "100/100 [==============================] - ETA: 0s - loss: 0.1727 - accuracy: 0.3962\n",
            "Epoch 12: loss did not improve from 0.17058\n",
            "100/100 [==============================] - 433s 4s/step - loss: 0.1727 - accuracy: 0.3962\n",
            "Epoch 13/40\n",
            "100/100 [==============================] - ETA: 0s - loss: 0.1716 - accuracy: 0.3953\n",
            "Epoch 13: loss did not improve from 0.17058\n",
            "100/100 [==============================] - 438s 4s/step - loss: 0.1716 - accuracy: 0.3953\n",
            "Epoch 14/40\n",
            "100/100 [==============================] - ETA: 0s - loss: 0.1821 - accuracy: 0.3722\n",
            "Epoch 14: loss did not improve from 0.17058\n",
            "100/100 [==============================] - 432s 4s/step - loss: 0.1821 - accuracy: 0.3722\n",
            "Epoch 15/40\n",
            "100/100 [==============================] - ETA: 0s - loss: 0.1663 - accuracy: 0.4040\n",
            "Epoch 15: loss improved from 0.17058 to 0.16629, saving model to drive/MyDrive/CVproject/suimnet_rsb02.hdf5\n",
            "100/100 [==============================] - 441s 4s/step - loss: 0.1663 - accuracy: 0.4040\n",
            "Epoch 16/40\n",
            "100/100 [==============================] - ETA: 0s - loss: 0.1732 - accuracy: 0.3954\n",
            "Epoch 16: loss did not improve from 0.16629\n",
            "100/100 [==============================] - 429s 4s/step - loss: 0.1732 - accuracy: 0.3954\n",
            "Epoch 17/40\n",
            "100/100 [==============================] - ETA: 0s - loss: 0.1807 - accuracy: 0.3821\n",
            "Epoch 17: loss did not improve from 0.16629\n",
            "100/100 [==============================] - 437s 4s/step - loss: 0.1807 - accuracy: 0.3821\n",
            "Epoch 18/40\n",
            "100/100 [==============================] - ETA: 0s - loss: 0.1884 - accuracy: 0.4209\n",
            "Epoch 18: loss did not improve from 0.16629\n",
            "100/100 [==============================] - 438s 4s/step - loss: 0.1884 - accuracy: 0.4209\n",
            "Epoch 19/40\n",
            "100/100 [==============================] - ETA: 0s - loss: 0.1734 - accuracy: 0.3801\n",
            "Epoch 19: loss did not improve from 0.16629\n",
            "100/100 [==============================] - 437s 4s/step - loss: 0.1734 - accuracy: 0.3801\n",
            "Epoch 20/40\n",
            "100/100 [==============================] - ETA: 0s - loss: 0.1733 - accuracy: 0.4314\n",
            "Epoch 20: loss did not improve from 0.16629\n",
            "100/100 [==============================] - 437s 4s/step - loss: 0.1733 - accuracy: 0.4314\n",
            "Epoch 21/40\n",
            "100/100 [==============================] - ETA: 0s - loss: 0.1716 - accuracy: 0.3760\n",
            "Epoch 21: loss did not improve from 0.16629\n",
            "100/100 [==============================] - 437s 4s/step - loss: 0.1716 - accuracy: 0.3760\n",
            "Epoch 22/40\n",
            "100/100 [==============================] - ETA: 0s - loss: 0.1751 - accuracy: 0.3883\n",
            "Epoch 22: loss did not improve from 0.16629\n",
            "100/100 [==============================] - 437s 4s/step - loss: 0.1751 - accuracy: 0.3883\n",
            "Epoch 23/40\n",
            "100/100 [==============================] - ETA: 0s - loss: 0.1723 - accuracy: 0.3999\n",
            "Epoch 23: loss did not improve from 0.16629\n",
            "100/100 [==============================] - 434s 4s/step - loss: 0.1723 - accuracy: 0.3999\n",
            "Epoch 24/40\n",
            "100/100 [==============================] - ETA: 0s - loss: 0.1830 - accuracy: 0.3894\n",
            "Epoch 24: loss did not improve from 0.16629\n",
            "100/100 [==============================] - 437s 4s/step - loss: 0.1830 - accuracy: 0.3894\n",
            "Epoch 25/40\n",
            "100/100 [==============================] - ETA: 0s - loss: 0.1726 - accuracy: 0.3928\n",
            "Epoch 25: loss did not improve from 0.16629\n",
            "100/100 [==============================] - 438s 4s/step - loss: 0.1726 - accuracy: 0.3928\n",
            "Epoch 26/40\n",
            "100/100 [==============================] - ETA: 0s - loss: 0.1691 - accuracy: 0.4239\n",
            "Epoch 26: loss did not improve from 0.16629\n",
            "100/100 [==============================] - 442s 4s/step - loss: 0.1691 - accuracy: 0.4239\n",
            "Epoch 27/40\n",
            "100/100 [==============================] - ETA: 0s - loss: 0.1704 - accuracy: 0.3843\n",
            "Epoch 27: loss did not improve from 0.16629\n",
            "100/100 [==============================] - 432s 4s/step - loss: 0.1704 - accuracy: 0.3843\n",
            "Epoch 28/40\n",
            "100/100 [==============================] - ETA: 0s - loss: 0.1660 - accuracy: 0.3861\n",
            "Epoch 28: loss improved from 0.16629 to 0.16598, saving model to drive/MyDrive/CVproject/suimnet_rsb02.hdf5\n",
            "100/100 [==============================] - 441s 4s/step - loss: 0.1660 - accuracy: 0.3861\n",
            "Epoch 29/40\n",
            "100/100 [==============================] - ETA: 0s - loss: 0.1738 - accuracy: 0.3953\n",
            "Epoch 29: loss did not improve from 0.16598\n",
            "100/100 [==============================] - 433s 4s/step - loss: 0.1738 - accuracy: 0.3953\n",
            "Epoch 30/40\n",
            "100/100 [==============================] - ETA: 0s - loss: 0.1724 - accuracy: 0.4106\n",
            "Epoch 30: loss did not improve from 0.16598\n",
            "100/100 [==============================] - 440s 4s/step - loss: 0.1724 - accuracy: 0.4106\n",
            "Epoch 31/40\n",
            "100/100 [==============================] - ETA: 0s - loss: 0.1681 - accuracy: 0.4135\n",
            "Epoch 31: loss did not improve from 0.16598\n",
            "100/100 [==============================] - 437s 4s/step - loss: 0.1681 - accuracy: 0.4135\n",
            "Epoch 32/40\n",
            "100/100 [==============================] - ETA: 0s - loss: 0.1753 - accuracy: 0.4070\n",
            "Epoch 32: loss did not improve from 0.16598\n",
            "100/100 [==============================] - 438s 4s/step - loss: 0.1753 - accuracy: 0.4070\n",
            "Epoch 33/40\n",
            "100/100 [==============================] - ETA: 0s - loss: 0.1669 - accuracy: 0.4091\n",
            "Epoch 33: loss did not improve from 0.16598\n",
            "100/100 [==============================] - 437s 4s/step - loss: 0.1669 - accuracy: 0.4091\n",
            "Epoch 34/40\n",
            "100/100 [==============================] - ETA: 0s - loss: 0.1645 - accuracy: 0.3942\n",
            "Epoch 34: loss improved from 0.16598 to 0.16454, saving model to drive/MyDrive/CVproject/suimnet_rsb02.hdf5\n",
            "100/100 [==============================] - 443s 4s/step - loss: 0.1645 - accuracy: 0.3942\n",
            "Epoch 35/40\n",
            "100/100 [==============================] - ETA: 0s - loss: 0.1624 - accuracy: 0.4020\n",
            "Epoch 35: loss improved from 0.16454 to 0.16238, saving model to drive/MyDrive/CVproject/suimnet_rsb02.hdf5\n",
            "100/100 [==============================] - 434s 4s/step - loss: 0.1624 - accuracy: 0.4020\n",
            "Epoch 36/40\n",
            "100/100 [==============================] - ETA: 0s - loss: 0.1612 - accuracy: 0.4235\n",
            "Epoch 36: loss improved from 0.16238 to 0.16123, saving model to drive/MyDrive/CVproject/suimnet_rsb02.hdf5\n",
            "100/100 [==============================] - 444s 4s/step - loss: 0.1612 - accuracy: 0.4235\n",
            "Epoch 37/40\n",
            "100/100 [==============================] - ETA: 0s - loss: 0.1698 - accuracy: 0.4083\n",
            "Epoch 37: loss did not improve from 0.16123\n",
            "100/100 [==============================] - 438s 4s/step - loss: 0.1698 - accuracy: 0.4083\n",
            "Epoch 38/40\n",
            "100/100 [==============================] - ETA: 0s - loss: 0.1634 - accuracy: 0.3976\n",
            "Epoch 38: loss did not improve from 0.16123\n",
            "100/100 [==============================] - 440s 4s/step - loss: 0.1634 - accuracy: 0.3976\n",
            "Epoch 39/40\n",
            "100/100 [==============================] - ETA: 0s - loss: 0.1643 - accuracy: 0.4339\n",
            "Epoch 39: loss did not improve from 0.16123\n",
            "100/100 [==============================] - 441s 4s/step - loss: 0.1643 - accuracy: 0.4339\n",
            "Epoch 40/40\n",
            "100/100 [==============================] - ETA: 0s - loss: 0.1631 - accuracy: 0.4154\n",
            "Epoch 40: loss did not improve from 0.16123\n",
            "100/100 [==============================] - 444s 4s/step - loss: 0.1631 - accuracy: 0.4154\n"
          ]
        }
      ],
      "source": [
        "## fit model\n",
        "import pickle\n",
        "suimnet2 = model.fit(train_gen, \n",
        "                    steps_per_epoch = 100,\n",
        "                    epochs = num_epochs,\n",
        "                    callbacks = [model_checkpoint])\n",
        "\n",
        "\n",
        "\n",
        "# with open(\"suim02_iou\", \"wb\") as fp:   #Pickling\n",
        "#    pickle.dump(suimnet2.history['mean_io_u'], fp)\n"
      ]
    },
    {
      "cell_type": "code",
      "source": [
        "# with open(\"drive/MyDrive/CVproject/suim02_accuracy\", \"rb\") as fp:   # Unpickling\n",
        "#    a = pickle.load(fp)\n",
        "# a.append(suimnet2.history['accuracy'])\n",
        "# with open(\"drive/MyDrive/CVproject/suim02_loss\", \"rb\") as fp:   # Unpickling\n",
        "#    l = pickle.load(fp)\n",
        "# l.append(suimnet2.history['loss'])\n",
        "\n",
        "with open(\"drive/MyDrive/CVproject/suim03_accuracy\", \"wb\") as fp:   #Pickling\n",
        "   pickle.dump(suimnet1.history['accuracy'], fp)\n",
        "with open(\"drive/MyDrive/CVproject/suim03_loss\", \"wb\") as fp:   #Pickling\n",
        "   pickle.dump(suimnet1.history['loss'], fp)"
      ],
      "metadata": {
        "id": "nGfa2lBaA5Dw"
      },
      "id": "nGfa2lBaA5Dw",
      "execution_count": null,
      "outputs": []
    },
    {
      "cell_type": "code",
      "source": [
        "import matplotlib.pyplot as plt\n",
        "plt.plot(suimnet1.history['accuracy'])"
      ],
      "metadata": {
        "colab": {
          "base_uri": "https://localhost:8080/",
          "height": 282
        },
        "id": "ZyO2pEbkcoTP",
        "outputId": "2d592379-5db0-4f2e-c02b-155a30ee9976"
      },
      "id": "ZyO2pEbkcoTP",
      "execution_count": 48,
      "outputs": [
        {
          "output_type": "execute_result",
          "data": {
            "text/plain": [
              "[<matplotlib.lines.Line2D at 0x7f6a36d77710>]"
            ]
          },
          "metadata": {},
          "execution_count": 48
        },
        {
          "output_type": "display_data",
          "data": {
            "text/plain": [
              "<Figure size 432x288 with 1 Axes>"
            ],
            "image/png": "[encoded data removed]"
          },
          "metadata": {
            "needs_background": "light"
          }
        }
      ]
    },
    {
      "cell_type": "code",
      "source": [
        "plt.plot(suimnet1.history['loss'])"
      ],
      "metadata": {
        "colab": {
          "base_uri": "https://localhost:8080/",
          "height": 286
        },
        "id": "bbTZnggef7AJ",
        "outputId": "8a5949d5-86ea-4ac2-b6c8-7e81f4be5203"
      },
      "id": "bbTZnggef7AJ",
      "execution_count": 49,
      "outputs": [
        {
          "output_type": "execute_result",
          "data": {
            "text/plain": [
              "[<matplotlib.lines.Line2D at 0x7f6a36d18b50>]"
            ]
          },
          "metadata": {},
          "execution_count": 49
        },
        {
          "output_type": "display_data",
          "data": {
            "text/plain": [
              "<Figure size 432x288 with 1 Axes>"
            ],
            "image/png": "[encoded data removed]"
          },
          "metadata": {
            "needs_background": "light"
          }
        }
      ]
    },
    {
      "cell_type": "code",
      "source": [
        "import matplotlib.pyplot as plt\n",
        "plt.plot(suimnet2.history['accuracy'])"
      ],
      "metadata": {
        "colab": {
          "base_uri": "https://localhost:8080/",
          "height": 282
        },
        "id": "NvqGZIwNwpW-",
        "outputId": "4427e3e1-fde6-4be9-c084-39ab51bd2938"
      },
      "id": "NvqGZIwNwpW-",
      "execution_count": 15,
      "outputs": [
        {
          "output_type": "execute_result",
          "data": {
            "text/plain": [
              "[<matplotlib.lines.Line2D at 0x7f4368b71590>]"
            ]
          },
          "metadata": {},
          "execution_count": 15
        },
        {
          "output_type": "display_data",
          "data": {
            "text/plain": [
              "<Figure size 432x288 with 1 Axes>"
            ],
            "image/png": "[encoded data removed]"
          },
          "metadata": {
            "needs_background": "light"
          }
        }
      ]
    },
    {
      "cell_type": "code",
      "source": [
        "plt.plot(suimnet2.history['loss'])"
      ],
      "metadata": {
        "colab": {
          "base_uri": "https://localhost:8080/",
          "height": 282
        },
        "id": "ZYrEcOVOwuSU",
        "outputId": "367b97a0-1db8-493f-8045-a4ae3f595497"
      },
      "id": "ZYrEcOVOwuSU",
      "execution_count": 16,
      "outputs": [
        {
          "output_type": "execute_result",
          "data": {
            "text/plain": [
              "[<matplotlib.lines.Line2D at 0x7f4368b28d10>]"
            ]
          },
          "metadata": {},
          "execution_count": 16
        },
        {
          "output_type": "display_data",
          "data": {
            "text/plain": [
              "<Figure size 432x288 with 1 Axes>"
            ],
            "image/png": "[encoded data removed]"
          },
          "metadata": {
            "needs_background": "light"
          }
        }
      ]
    },
    {
      "cell_type": "code",
      "source": [
        "import matplotlib.pyplot as plt\n",
        "plt.plot(suimnet3.history['accuracy'])"
      ],
      "metadata": {
        "colab": {
          "base_uri": "https://localhost:8080/",
          "height": 282
        },
        "id": "-r8V2oXfEAWU",
        "outputId": "ecf3a911-881d-46f8-b2c9-a2e7543b5e15"
      },
      "id": "-r8V2oXfEAWU",
      "execution_count": 11,
      "outputs": [
        {
          "output_type": "execute_result",
          "data": {
            "text/plain": [
              "[<matplotlib.lines.Line2D at 0x7f01b2322590>]"
            ]
          },
          "metadata": {},
          "execution_count": 11
        },
        {
          "output_type": "display_data",
          "data": {
            "text/plain": [
              "<Figure size 432x288 with 1 Axes>"
            ],
            "image/png": "[encoded data removed]"
          },
          "metadata": {
            "needs_background": "light"
          }
        }
      ]
    },
    {
      "cell_type": "code",
      "source": [
        "plt.plot(suimnet3.history['loss'])"
      ],
      "metadata": {
        "colab": {
          "base_uri": "https://localhost:8080/",
          "height": 282
        },
        "id": "UqGSgv2YEClM",
        "outputId": "12075852-31c0-42dc-84ca-0d1087dc0f28"
      },
      "id": "UqGSgv2YEClM",
      "execution_count": 12,
      "outputs": [
        {
          "output_type": "execute_result",
          "data": {
            "text/plain": [
              "[<matplotlib.lines.Line2D at 0x7f01b20309d0>]"
            ]
          },
          "metadata": {},
          "execution_count": 12
        },
        {
          "output_type": "display_data",
          "data": {
            "text/plain": [
              "<Figure size 432x288 with 1 Axes>"
            ],
            "image/png": "[encoded data removed]"
          },
          "metadata": {
            "needs_background": "light"
          }
        }
      ]
    },
    {
      "cell_type": "code",
      "execution_count": null,
      "id": "90404799",
      "metadata": {
        "id": "90404799"
      },
      "outputs": [],
      "source": [
        "# #import os\n",
        "# #os.environ[\"TF_DISABLE_MLC\"] = \"1\"\n",
        "# #os.environ[\"TF_MLC_LOGGING\"] = \"1\"\n",
        "# import tensorflow as tf\n",
        "# from tensorflow.python.compiler.mlcompute import mlcompute\n",
        "\n",
        "# tf.compat.v1.disable_eager_execution()\n",
        "# mlcompute.set_mlc_device(device_name='gpu')\n",
        "# print(\"is_apple_mlc_enabled %s\" % mlcompute.is_apple_mlc_enabled())\n",
        "# print(\"is_tf_compiled_with_apple_mlc %s\" % mlcompute.is_tf_compiled_with_apple_mlc())\n",
        "# print(f\"eagerly? {tf.executing_eagerly()}\")\n",
        "# print(tf.config.list_logical_devices())\n",
        "\n",
        "# from tensorflow.keras import datasets, layers, models\n",
        "\n",
        "# (train_images, train_labels), (test_images, test_labels) = datasets.cifar10.load_data()\n",
        "# train_images, test_images = train_images / 255.0, test_images / 255.0\n",
        "# class_names = ['airplane', 'automobile', 'bird', 'cat', 'deer',\n",
        "#                'dog', 'frog', 'horse', 'ship', 'truck']\n",
        "# model = models.Sequential()\n",
        "# model.add(layers.Conv2D(32, (3, 3), activation='relu', input_shape=(32, 32, 3)))\n",
        "# model.add(layers.MaxPooling2D((2, 2)))\n",
        "# model.add(layers.Conv2D(64, (3, 3), activation='relu'))\n",
        "# model.add(layers.MaxPooling2D((2, 2)))\n",
        "# model.add(layers.Conv2D(64, (3, 3), activation='relu'))\n",
        "# model.add(layers.Flatten())\n",
        "# model.add(layers.Dense(64, activation='relu'))\n",
        "# model.add(layers.Dense(10))\n",
        "# model.compile(optimizer='adam',\n",
        "#               loss=tf.keras.losses.SparseCategoricalCrossentropy(from_logits=True),\n",
        "#               metrics=['accuracy'])\n",
        "# history = model.fit(train_images, train_labels, epochs=10,\n",
        "#                     validation_data=(test_images, test_labels))"
      ]
    },
    {
      "cell_type": "code",
      "execution_count": null,
      "id": "2e3260c2",
      "metadata": {
        "id": "2e3260c2"
      },
      "outputs": [],
      "source": [
        "# import tensorflow_datasets as tfds\n",
        "# import tensorflow as tf\n",
        "\n",
        "# from tensorflow.python.framework.ops import disable_eager_execution\n",
        "# disable_eager_execution()\n",
        "\n",
        "# (ds_train, ds_test), ds_info = tfds.load(\n",
        "#     'mnist',\n",
        "#     split=['train', 'test'],\n",
        "#     shuffle_files=True,\n",
        "#     as_supervised=True,\n",
        "#     with_info=True,\n",
        "# )\n",
        "\n",
        "# def normalize_img(image, label):\n",
        "#   \"\"\"Normalizes images: `uint8` -> `float32`.\"\"\"\n",
        "#   return tf.cast(image, tf.float32) / 255., label\n",
        "\n",
        "# batch_size = 128\n",
        "\n",
        "# ds_train = ds_train.map(\n",
        "#     normalize_img, num_parallel_calls=tf.data.experimental.AUTOTUNE)\n",
        "# ds_train = ds_train.cache()\n",
        "# ds_train = ds_train.shuffle(ds_info.splits['train'].num_examples)\n",
        "# ds_train = ds_train.batch(batch_size)\n",
        "# ds_train = ds_train.prefetch(tf.data.experimental.AUTOTUNE)\n",
        "\n",
        "\n",
        "# ds_test = ds_test.map(\n",
        "#     normalize_img, num_parallel_calls=tf.data.experimental.AUTOTUNE)\n",
        "# ds_test = ds_test.batch(batch_size)\n",
        "# ds_test = ds_test.cache()\n",
        "# ds_test = ds_test.prefetch(tf.data.experimental.AUTOTUNE)\n",
        "\n",
        "\n",
        "# model = tf.keras.models.Sequential([\n",
        "#   tf.keras.layers.Conv2D(32, kernel_size=(3, 3),\n",
        "#                  activation='relu'),\n",
        "#   tf.keras.layers.Conv2D(64, kernel_size=(3, 3),\n",
        "#                  activation='relu'),\n",
        "#   tf.keras.layers.MaxPooling2D(pool_size=(2, 2)),\n",
        "# #   tf.keras.layers.Dropout(0.25),\n",
        "#   tf.keras.layers.Flatten(),\n",
        "#   tf.keras.layers.Dense(128, activation='relu'),\n",
        "# #   tf.keras.layers.Dropout(0.5),\n",
        "#   tf.keras.layers.Dense(10, activation='softmax')\n",
        "# ])\n",
        "# model.compile(\n",
        "#     loss='sparse_categorical_crossentropy',\n",
        "#     optimizer=tf.keras.optimizers.Adam(0.001),\n",
        "#     metrics=['accuracy'],\n",
        "# )\n",
        "\n",
        "# model.fit(\n",
        "#     ds_train,\n",
        "#     epochs=12,\n",
        "#     validation_data=ds_test,\n",
        "# )\n"
      ]
    },
    {
      "cell_type": "code",
      "execution_count": null,
      "id": "8dceb3d2",
      "metadata": {
        "id": "8dceb3d2"
      },
      "outputs": [],
      "source": [
        ""
      ]
    }
  ],
  "metadata": {
    "kernelspec": {
      "display_name": "Python 3 (ipykernel)",
      "language": "python",
      "name": "python3"
    },
    "language_info": {
      "codemirror_mode": {
        "name": "ipython",
        "version": 3
      },
      "file_extension": ".py",
      "mimetype": "text/x-python",
      "name": "python",
      "nbconvert_exporter": "python",
      "pygments_lexer": "ipython3",
      "version": "3.8.12"
    },
    "colab": {
      "name": "SUIMnet.ipynb",
      "provenance": [],
      "collapsed_sections": []
    }
  },
  "nbformat": 4,
  "nbformat_minor": 5
}